{
 "cells": [
  {
   "cell_type": "markdown",
   "metadata": {},
   "source": [
    "# Chapter 6"
   ]
  },
  {
   "cell_type": "markdown",
   "metadata": {},
   "source": [
    "Pandas has some nice functionalities for accesing data, these are basically divided in:\n",
    "1. Reading text and binary files\n",
    "2. Loading data from databases\n",
    "3. Interacting with networks sources like web APIs"
   ]
  },
  {
   "cell_type": "markdown",
   "metadata": {},
   "source": [
    "## 6.1 Reading Data in Text Format"
   ]
  },
  {
   "cell_type": "markdown",
   "metadata": {},
   "source": [
    "**Reading**"
   ]
  },
  {
   "cell_type": "markdown",
   "metadata": {},
   "source": [
    "The next functions may help us to create a DataFrame out of a text file:<br><br>\n",
    ".read_csv() which performs *type inference*<br>\n",
    ".read_table() <br>"
   ]
  },
  {
   "cell_type": "markdown",
   "metadata": {},
   "source": [
    "Many arguments may be used to custom these functions, some of them are:<br><br>\n",
    "header<br>\n",
    "delimiter<br>\n",
    "names to pass the columns to be used<br>\n",
    "index_col uses a column as the index<br>\n",
    "skiprows to avoid certains rows, for example, comments rows<br> \n",
    "na_values to indicate which values must be taken as null<br>\n",
    "nrows to read a specific number of rows<br>\n",
    "<br>\n",
    "*Regular expressions may be used*<br>\n",
    "Chunks may also be created when reading data in text format<br>\n"
   ]
  },
  {
   "cell_type": "markdown",
   "metadata": {},
   "source": [
    "*trick:* zip(*l) over a list of lists to transpose rows to columns"
   ]
  },
  {
   "cell_type": "markdown",
   "metadata": {},
   "source": [
    "**Writing data**"
   ]
  },
  {
   "cell_type": "markdown",
   "metadata": {},
   "source": [
    "Exporting a DataFrame as a csv file is really easy using its *.to_csv()* method. Many things may be custom using differente arguments as: index, header, sep, na_rep, columns.<br>\n",
    "Series also has a *.to_csv()* method"
   ]
  },
  {
   "cell_type": "markdown",
   "metadata": {},
   "source": [
    "**Built-in csv module**"
   ]
  },
  {
   "cell_type": "markdown",
   "metadata": {},
   "source": [
    "Sometimes may be easier to work with the Python's built-in *csv module*. <br>\n",
    "You can combine *with open(path)...* with *csv.reader*. Then use next(), zip() and comprehensions to organize your data."
   ]
  },
  {
   "cell_type": "markdown",
   "metadata": {},
   "source": [
    "**JSON Data (JavaScript Object Notation)**"
   ]
  },
  {
   "cell_type": "markdown",
   "metadata": {},
   "source": [
    "JSON is a data representation format. It's one of the most worlwide used formats for sending data. It's more simple and lighweight than xml. It's language independent.\n",
    "<br><br>\n",
    "To handdle it we use Python's built-in module *json*:\n",
    "json.loads() converts a json object into a dict\n",
    "json.dumps() converts a Python object into a json object <br><br>\n",
    "We can also use the pandas.read_json() function to automatically convert a JSON object (or a JSON array) to a DataFrame."
   ]
  }
 ],
 "metadata": {
  "kernelspec": {
   "display_name": "Python 3",
   "language": "python",
   "name": "python3"
  },
  "language_info": {
   "name": "python",
   "version": "3.10.6"
  },
  "orig_nbformat": 4
 },
 "nbformat": 4,
 "nbformat_minor": 2
}
