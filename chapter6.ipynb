{
 "cells": [
  {
   "cell_type": "markdown",
   "metadata": {},
   "source": [
    "# Chapter 6"
   ]
  },
  {
   "cell_type": "markdown",
   "metadata": {},
   "source": [
    "Pandas has some nice functionalities for accesing data, these are basically divided in:\n",
    "1. Reading text and binary files\n",
    "2. Loading data from databases\n",
    "3. Interacting with networks sources like web APIs"
   ]
  },
  {
   "cell_type": "markdown",
   "metadata": {},
   "source": [
    "## 6.1 Reading Data in Text Format"
   ]
  },
  {
   "cell_type": "markdown",
   "metadata": {},
   "source": [
    "**Reading**"
   ]
  },
  {
   "cell_type": "markdown",
   "metadata": {},
   "source": [
    "The next functions may help us to create a DataFrame out of a text file:<br><br>\n",
    ".read_csv() which performs *type inference*<br>\n",
    ".read_table() <br>"
   ]
  },
  {
   "cell_type": "markdown",
   "metadata": {},
   "source": [
    "Many arguments may be used to custom these functions, some of them are:<br><br>\n",
    "header<br>\n",
    "delimiter<br>\n",
    "names to pass the columns to be used<br>\n",
    "index_col uses a column as the index<br>\n",
    "skiprows to avoid certains rows, for example, comments rows<br> \n",
    "na_values to indicate which values must be taken as null<br>\n",
    "nrows to read a specific number of rows<br>\n",
    "<br>\n",
    "*Regular expressions may be used*<br>\n",
    "Chunks may also be created when reading data in text format<br>\n"
   ]
  },
  {
   "cell_type": "markdown",
   "metadata": {},
   "source": [
    "*trick:* zip(*l) over a list of lists to transpose rows to columns"
   ]
  },
  {
   "cell_type": "markdown",
   "metadata": {},
   "source": [
    "**Writing data**"
   ]
  },
  {
   "cell_type": "markdown",
   "metadata": {},
   "source": [
    "Exporting a DataFrame as a csv file is really easy using its *.to_csv()* method. Many things may be custom using differente arguments as: index, header, sep, na_rep, columns.<br>\n",
    "Series also has a *.to_csv()* method"
   ]
  },
  {
   "cell_type": "markdown",
   "metadata": {},
   "source": [
    "**Built-in csv module**"
   ]
  },
  {
   "cell_type": "markdown",
   "metadata": {},
   "source": [
    "Sometimes may be easier to work with the Python's built-in *csv module*. <br>\n",
    "You can combine *with open(path)...* with *csv.reader*. Then use next(), zip() and comprehensions to organize your data."
   ]
  },
  {
   "cell_type": "markdown",
   "metadata": {},
   "source": [
    "**JSON Data (JavaScript Object Notation)**"
   ]
  },
  {
   "cell_type": "markdown",
   "metadata": {},
   "source": [
    "JSON is a data representation format. It's one of the most worlwide used formats for sending data. It's more simple and lighweight than xml. It's language independent.\n",
    "<br><br>\n",
    "To handdle it we use Python's built-in module *json*:\n",
    "json.loads() converts a json object into a dict\n",
    "json.dumps() converts a Python object into a json object <br><br>\n",
    "We can also use the pandas.read_json() function to automatically convert a JSON object (or a JSON array) to a DataFrame."
   ]
  },
  {
   "cell_type": "markdown",
   "metadata": {},
   "source": [
    "**HTML and XML: Web Scrapping**"
   ]
  },
  {
   "cell_type": "markdown",
   "metadata": {},
   "source": [
    "With pandas function *.read_html()* you can read html files, however pandas will need you to have other packages installed such as *lxml*, *beautifulsoup4* *html5lib* (you can install them using conda or pip). <br><br>\n",
    "This function will return you a list of DataFrames according to the tables it can identify in the html file.\n"
   ]
  },
  {
   "cell_type": "markdown",
   "metadata": {},
   "source": [
    "## 6.2 Binary Data Formats"
   ]
  },
  {
   "cell_type": "markdown",
   "metadata": {},
   "source": [
    "About pickel formats, HDF5...\n",
    "\n",
    "**Excel files**\n",
    "\n",
    "As for reading html files, we a *.read_excel()* function in pandas. Before using it we need to make sure we have installed the packages xlrd and openpyxl.<br><br>\n",
    "Write excel files from DataFrames using their method *.to_excel()*\n"
   ]
  },
  {
   "cell_type": "markdown",
   "metadata": {},
   "source": [
    "*Business knowledge is key for understanding how accurate your results are*"
   ]
  },
  {
   "cell_type": "markdown",
   "metadata": {},
   "source": [
    "## 6.3 Interacting with Web APIs\n",
    "\n",
    "1. Using the requests library we can download a response object from an API. \n",
    "2. This object has a method called *.json* which returns you a list of dicts. \n",
    "3. Finally yo use the DataFrame constructor over this list."
   ]
  },
  {
   "cell_type": "markdown",
   "metadata": {},
   "source": [
    "## 6.4 Interacting with Databases\n",
    "\n",
    "About SQL etc."
   ]
  }
 ],
 "metadata": {
  "kernelspec": {
   "display_name": "Python 3",
   "language": "python",
   "name": "python3"
  },
  "language_info": {
   "name": "python",
   "version": "3.10.6"
  },
  "orig_nbformat": 4
 },
 "nbformat": 4,
 "nbformat_minor": 2
}
