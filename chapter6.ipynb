{
 "cells": [
  {
   "cell_type": "markdown",
   "metadata": {},
   "source": [
    "# Chapter 6"
   ]
  },
  {
   "cell_type": "markdown",
   "metadata": {},
   "source": [
    "Pandas has some nice functionalities for accesing data, these are basically divided in:\n",
    "1. Reading text and binary files\n",
    "2. Loading data from databases\n",
    "3. Interacting with networks sources like web APIs"
   ]
  },
  {
   "cell_type": "markdown",
   "metadata": {},
   "source": [
    "## 6.1 Reading Data in Text Format"
   ]
  },
  {
   "cell_type": "markdown",
   "metadata": {},
   "source": [
    "The next functions may help us to create a DataFrame out of a text file:<br><br>\n",
    ".read_csv() which performs *type inference*<br>\n",
    ".read_table() <br>"
   ]
  },
  {
   "cell_type": "markdown",
   "metadata": {},
   "source": [
    "Many arguments may be used to custom these functions, some of them are:<br><br>\n",
    "header<br>\n",
    "delimiter<br>\n",
    "names to pass the columns to be used<br>\n",
    "index_col uses a column as the index<br>\n",
    "skiprows to avoid certains rows, for example, comments rows<br> \n",
    "na_values to indicate which values must be taken as null<br>\n",
    "<br>\n",
    "*Regular expressions may be used*"
   ]
  }
 ],
 "metadata": {
  "kernelspec": {
   "display_name": "Python 3",
   "language": "python",
   "name": "python3"
  },
  "language_info": {
   "name": "python",
   "version": "3.10.6"
  },
  "orig_nbformat": 4
 },
 "nbformat": 4,
 "nbformat_minor": 2
}
