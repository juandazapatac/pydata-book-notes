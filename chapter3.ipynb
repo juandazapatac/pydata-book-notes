{
 "cells": [
  {
   "cell_type": "markdown",
   "id": "b5dfb423-af89-4547-aac1-5ae185cfba06",
   "metadata": {},
   "source": [
    "# Chapter 3"
   ]
  },
  {
   "cell_type": "markdown",
   "id": "60487915-4437-476d-9692-0d2ae396c4e0",
   "metadata": {},
   "source": [
    "## Tuples\n",
    "\n",
    "Ordered, inmutable, allow duplicate values."
   ]
  },
  {
   "cell_type": "code",
   "execution_count": 24,
   "id": "27572098-2d8f-4f7a-98d3-bae03ddb32fd",
   "metadata": {},
   "outputs": [],
   "source": [
    "t1=tuple()\n",
    "t2=(1,2,'Holo',None)"
   ]
  },
  {
   "cell_type": "code",
   "execution_count": 27,
   "id": "dac8a39d-a59d-4577-a818-996b4fd024b9",
   "metadata": {},
   "outputs": [
    {
     "data": {
      "text/plain": [
       "(2, 'Holo')"
      ]
     },
     "execution_count": 27,
     "metadata": {},
     "output_type": "execute_result"
    }
   ],
   "source": [
    "t2[1:3] #Indexing and slicing are able"
   ]
  },
  {
   "cell_type": "code",
   "execution_count": 28,
   "id": "4a613fce-a4af-41ad-a3c0-82dd10084fb1",
   "metadata": {},
   "outputs": [
    {
     "ename": "TypeError",
     "evalue": "'tuple' object does not support item assignment",
     "output_type": "error",
     "traceback": [
      "\u001b[0;31m---------------------------------------------------------------------------\u001b[0m",
      "\u001b[0;31mTypeError\u001b[0m                                 Traceback (most recent call last)",
      "Cell \u001b[0;32mIn[28], line 1\u001b[0m\n\u001b[0;32m----> 1\u001b[0m \u001b[43mt2\u001b[49m\u001b[43m[\u001b[49m\u001b[38;5;241;43m3\u001b[39;49m\u001b[43m]\u001b[49m\u001b[38;5;241m=\u001b[39m\u001b[38;5;124m'\u001b[39m\u001b[38;5;124mHola\u001b[39m\u001b[38;5;124m'\u001b[39m\n",
      "\u001b[0;31mTypeError\u001b[0m: 'tuple' object does not support item assignment"
     ]
    }
   ],
   "source": [
    "t2[3]='Hola' # Re-asignment is not able"
   ]
  },
  {
   "cell_type": "markdown",
   "id": "2e7db866",
   "metadata": {},
   "source": [
    "**Unpacking tuples**\n",
    "\n",
    "A tuple elements can be assigned to a group of variables:"
   ]
  },
  {
   "cell_type": "code",
   "execution_count": 1,
   "id": "c8b7076a",
   "metadata": {},
   "outputs": [
    {
     "name": "stdout",
     "output_type": "stream",
     "text": [
      "78\n"
     ]
    }
   ],
   "source": [
    "tupla=(34,56,78)\n",
    "a,b,c=tupla\n",
    "print(c)"
   ]
  },
  {
   "cell_type": "markdown",
   "id": "0457f5c7",
   "metadata": {},
   "source": [
    "Tuples can also be concatenated using \"+\" and multiplied by a scalar using \"*\" (Same for lists)"
   ]
  },
  {
   "cell_type": "markdown",
   "id": "6e92efed-0472-4e43-9fc4-7e815214a3a1",
   "metadata": {},
   "source": [
    "## Lists\n",
    "\n",
    "Ordered, mutable, allow duplicate values."
   ]
  },
  {
   "cell_type": "code",
   "execution_count": null,
   "id": "99d542b3-119b-47e2-8304-e7c3fb5c6c39",
   "metadata": {},
   "outputs": [],
   "source": [
    "l1=list()\n",
    "l2=[True,2.45,False,True]"
   ]
  },
  {
   "cell_type": "code",
   "execution_count": 33,
   "id": "4336c253-8373-41c5-999e-357d73c6c0e9",
   "metadata": {},
   "outputs": [
    {
     "data": {
      "text/plain": [
       "False"
      ]
     },
     "execution_count": 33,
     "metadata": {},
     "output_type": "execute_result"
    }
   ],
   "source": [
    "l2[-2] #Indexing and slicing available"
   ]
  },
  {
   "cell_type": "code",
   "execution_count": 35,
   "id": "73437766-ce31-42ef-86db-677794b53594",
   "metadata": {},
   "outputs": [],
   "source": [
    "l2[0]='Welcome' #Re-asignments too"
   ]
  },
  {
   "cell_type": "markdown",
   "id": "e188a718",
   "metadata": {},
   "source": [
    "Some of the most used methods are: *append, insert, pop, remove, extend*"
   ]
  },
  {
   "cell_type": "markdown",
   "id": "a78d18b8",
   "metadata": {},
   "source": [
    "the *list()* function is really useful to unpack iterators or generator expressions like range. It is a way to materialize them."
   ]
  },
  {
   "cell_type": "markdown",
   "id": "853239fb",
   "metadata": {},
   "source": [
    "When slicing you can also use steps:"
   ]
  },
  {
   "cell_type": "code",
   "execution_count": 2,
   "id": "70643207",
   "metadata": {},
   "outputs": [
    {
     "name": "stdout",
     "output_type": "stream",
     "text": [
      "[1, 3, 5, 7, 9]\n"
     ]
    }
   ],
   "source": [
    "l3=[1,2,3,4,5,6,7,8,9,10]\n",
    "print(l3[::2])"
   ]
  },
  {
   "cell_type": "markdown",
   "id": "77a540c8",
   "metadata": {},
   "source": [
    "steps are also used to revert a list:"
   ]
  },
  {
   "cell_type": "code",
   "execution_count": 3,
   "id": "dbed7bcd",
   "metadata": {},
   "outputs": [
    {
     "name": "stdout",
     "output_type": "stream",
     "text": [
      "[10, 9, 8, 7, 6, 5, 4, 3, 2, 1]\n"
     ]
    }
   ],
   "source": [
    "print(l3[::-1])"
   ]
  },
  {
   "cell_type": "markdown",
   "id": "ec3ddc26-df81-4318-96d9-65bcbf69fa2e",
   "metadata": {},
   "source": [
    "## Dictionaries\n",
    "\n",
    "Pairs key-value.\n",
    "\n",
    "Ordered, mutable, doesn't allow duplicate keys."
   ]
  },
  {
   "cell_type": "code",
   "execution_count": 9,
   "id": "791f478b-3e6d-42d6-8e13-62da6c671992",
   "metadata": {},
   "outputs": [],
   "source": [
    "d1=dict()\n",
    "d2={'Colombia':'Latino','Marruecos':'Maghrébin'}"
   ]
  },
  {
   "cell_type": "code",
   "execution_count": 16,
   "id": "94dd2305-1758-47c8-84a9-5e17fe8c6a28",
   "metadata": {},
   "outputs": [
    {
     "data": {
      "text/plain": [
       "dict_keys(['Colombia', 'Marruecos'])"
      ]
     },
     "execution_count": 16,
     "metadata": {},
     "output_type": "execute_result"
    }
   ],
   "source": [
    "d2.keys() # dict keys iterator"
   ]
  },
  {
   "cell_type": "code",
   "execution_count": 15,
   "id": "e3a05cbc-e29e-4916-958f-9548a7e9d716",
   "metadata": {},
   "outputs": [
    {
     "data": {
      "text/plain": [
       "dict_values(['Latino', 'Maghrébin'])"
      ]
     },
     "execution_count": 15,
     "metadata": {},
     "output_type": "execute_result"
    }
   ],
   "source": [
    "d2.values() # dict values iterator"
   ]
  },
  {
   "cell_type": "code",
   "execution_count": null,
   "id": "1bcb7a38-34f4-4846-b6e6-f1ac6fbee91b",
   "metadata": {},
   "outputs": [],
   "source": [
    "d2.items() # iterator made of tuples where each has a pair key-value"
   ]
  },
  {
   "cell_type": "markdown",
   "id": "22304ef6-909f-4633-bb24-773ee3eb6119",
   "metadata": {},
   "source": [
    "To access its items:"
   ]
  },
  {
   "cell_type": "code",
   "execution_count": 38,
   "id": "f7e7038b-2b5a-4b70-845c-e7127afdb9b6",
   "metadata": {},
   "outputs": [
    {
     "data": {
      "text/plain": [
       "'Latino'"
      ]
     },
     "execution_count": 38,
     "metadata": {},
     "output_type": "execute_result"
    }
   ],
   "source": [
    "d2['Colombia'] # Kind of indexing but with keys"
   ]
  },
  {
   "cell_type": "markdown",
   "id": "1c6c1938-4b13-47fe-93fe-8595b7a7b161",
   "metadata": {},
   "source": [
    "To add an item:"
   ]
  },
  {
   "cell_type": "code",
   "execution_count": 40,
   "id": "2619724b-ad25-4bf6-87be-66bdc613963f",
   "metadata": {},
   "outputs": [],
   "source": [
    "d2['China']='Latino'"
   ]
  },
  {
   "cell_type": "markdown",
   "id": "8b2b1e88-ee28-42ee-972a-13949b5f5440",
   "metadata": {},
   "source": [
    "and to modify it:"
   ]
  },
  {
   "cell_type": "code",
   "execution_count": 43,
   "id": "3f8c20e4-b5ad-473b-978d-fd8a1139fa93",
   "metadata": {},
   "outputs": [],
   "source": [
    "d2['China']='Han'"
   ]
  },
  {
   "cell_type": "markdown",
   "id": "f0db88c7-a28a-49dc-8624-98c840de354f",
   "metadata": {},
   "source": [
    "## Sets\n",
    "\n",
    "Unordered, unchangeable*, don't allow duplicate values"
   ]
  },
  {
   "cell_type": "code",
   "execution_count": 17,
   "id": "0d560d7e-ebcd-4061-98d8-7e0e0163ffe2",
   "metadata": {},
   "outputs": [],
   "source": [
    "s1=set()\n",
    "s2={1,6.7,True}"
   ]
  },
  {
   "cell_type": "markdown",
   "id": "f898c77a",
   "metadata": {},
   "source": [
    "## Built-in sequence functions"
   ]
  },
  {
   "cell_type": "markdown",
   "id": "4300fe5b",
   "metadata": {},
   "source": [
    "**enumerate**\n",
    "\n",
    "Creates index-values pairs from an iterable"
   ]
  },
  {
   "cell_type": "code",
   "execution_count": 4,
   "id": "56e3b7f5",
   "metadata": {},
   "outputs": [
    {
     "name": "stdout",
     "output_type": "stream",
     "text": [
      "0 a\n",
      "1 b\n",
      "2 c\n"
     ]
    }
   ],
   "source": [
    "l=[\"a\",\"b\",\"c\"]\n",
    "for i,j in enumerate(l):\n",
    "    print(i,j)"
   ]
  },
  {
   "cell_type": "markdown",
   "id": "87c4576a",
   "metadata": {},
   "source": [
    "**sorted**\n",
    "\n",
    "Sorts any sequence and creates a list out of it"
   ]
  },
  {
   "cell_type": "code",
   "execution_count": 5,
   "id": "26863ffa",
   "metadata": {},
   "outputs": [
    {
     "name": "stdout",
     "output_type": "stream",
     "text": [
      "[' ', ' ', ' ', ' ', ' ', 'T', 'a', 'd', 'e', 'e', 'h', 'i', 'i', 'j', 'm', 'm', 'n', 'o', 'o', 'r', 's', 's', 's', 's', 't', 't', 't', 'u', 'x']\n"
     ]
    }
   ],
   "source": [
    "text=\"This is just some random text\"\n",
    "print(sorted(text))"
   ]
  },
  {
   "cell_type": "markdown",
   "id": "947401d3",
   "metadata": {},
   "source": [
    "**zip**\n",
    "\n",
    "Extremely powerful tool used to pair up elements from different sequences and create a list of tuples from them."
   ]
  },
  {
   "cell_type": "markdown",
   "id": "eef105d9",
   "metadata": {},
   "source": [
    "**reversed**\n",
    "\n",
    "Helps you reverse a sequence"
   ]
  },
  {
   "cell_type": "markdown",
   "id": "6166f4bd",
   "metadata": {},
   "source": [
    "## Comprehensions\n",
    "\n",
    "You can use them for lists, dictionaries and sets."
   ]
  },
  {
   "cell_type": "markdown",
   "id": "f0058e7c",
   "metadata": {},
   "source": [
    "**The map function**\n",
    "\n",
    "Built-in function that receives an iterable, applies a function to it and returns a map-object that can then be opened with *list()*"
   ]
  },
  {
   "cell_type": "markdown",
   "id": "3839b676",
   "metadata": {},
   "source": [
    "**Nested list comprehensions**\n",
    "\n",
    "Include more than one *for* in one comprehension (Reconsider using this if you include more than 2 to 3 for loops) "
   ]
  },
  {
   "cell_type": "code",
   "execution_count": null,
   "id": "b2d62210",
   "metadata": {},
   "outputs": [],
   "source": [
    "all_data = [[\"John\", \"Emily\", \"Michael\", \"Mary\", \"Steven\"],[\"Maria\", \"Juan\", \"Javier\", \"Natalia\", \"Pilar\"]]\n",
    "names_2a=[name for l in all_data for name in l if name.count(\"a\")>1]"
   ]
  },
  {
   "cell_type": "markdown",
   "id": "ad916a14",
   "metadata": {},
   "source": [
    "## Functions"
   ]
  },
  {
   "cell_type": "markdown",
   "id": "2fd1d15f",
   "metadata": {},
   "source": [
    "If there isn't any return statement, a function will return the *None* value by default."
   ]
  },
  {
   "cell_type": "markdown",
   "id": "b0e3d810",
   "metadata": {},
   "source": [
    "**Default arguments**\n",
    "\n",
    "There are basically two types of functions arguments: The positional one and the keyword ones. \n",
    "\n",
    "Positional are not optional while keyword ones are optional and are used to include default values. *keyword arguments must follow positional arguments*"
   ]
  },
  {
   "cell_type": "markdown",
   "id": "f898c3bf",
   "metadata": {},
   "source": [
    "**Namespaces (Scopes)**\n",
    "\n",
    "Inside a function block we talk about a local scope, functions created here *die* when the function block is closed.\n",
    "\n",
    "On the other hand, global or nonlocal varibles can be used in the local scope of the function."
   ]
  },
  {
   "cell_type": "markdown",
   "id": "8d2d1411",
   "metadata": {},
   "source": [
    "**Returning multiple values**\n",
    "\n",
    "Functions can return tuples, and because then we can unpack those tuples in multiples variables, we say the functions can return multiple values."
   ]
  },
  {
   "cell_type": "markdown",
   "id": "4b5dce80",
   "metadata": {},
   "source": [
    "**The Lambda function (anonymous function)**\n",
    "\n",
    "So useful. An one statement function."
   ]
  },
  {
   "cell_type": "code",
   "execution_count": 1,
   "id": "f1f09abd",
   "metadata": {},
   "outputs": [
    {
     "name": "stdout",
     "output_type": "stream",
     "text": [
      "['Pablo', 'Mark', 'Oscar', 'Maddie', 'Angie']\n"
     ]
    }
   ],
   "source": [
    "names=[\"PaBLO\",\"MARK\",\"OsCar\",\"maddie\",\"anGIE\"]\n",
    "names2=list(map(lambda w:w.capitalize(),names))\n",
    "print(names2)"
   ]
  },
  {
   "cell_type": "markdown",
   "id": "3f453dcf",
   "metadata": {},
   "source": [
    "**Errors and exception handling**\n",
    "\n",
    "Sometimes we may want our code to continue running even if an error is raised. That's where we use try and except."
   ]
  },
  {
   "cell_type": "code",
   "execution_count": 2,
   "id": "fdea2a72",
   "metadata": {},
   "outputs": [
    {
     "name": "stdout",
     "output_type": "stream",
     "text": [
      "This is not an integer\n"
     ]
    }
   ],
   "source": [
    "w=\"holo\"\n",
    "try:\n",
    "    print(int(w))\n",
    "except:\n",
    "    print(\"This is not an integer\")"
   ]
  },
  {
   "cell_type": "markdown",
   "id": "23aae7ae",
   "metadata": {},
   "source": [
    "We can be more specific and run the except block only if an especific error is raised. (you can cath various errors using a tuple)"
   ]
  },
  {
   "cell_type": "code",
   "execution_count": 5,
   "id": "bdb88b36",
   "metadata": {},
   "outputs": [
    {
     "ename": "TypeError",
     "evalue": "int() argument must be a string, a bytes-like object or a real number, not 'list'",
     "output_type": "error",
     "traceback": [
      "\u001b[0;31m---------------------------------------------------------------------------\u001b[0m",
      "\u001b[0;31mTypeError\u001b[0m                                 Traceback (most recent call last)",
      "Cell \u001b[0;32mIn[5], line 3\u001b[0m\n\u001b[1;32m      1\u001b[0m w\u001b[39m=\u001b[39m[\u001b[39m0\u001b[39m,\u001b[39mTrue\u001b[39;00m,\u001b[39mNone\u001b[39;00m,\u001b[39m'\u001b[39m\u001b[39ma\u001b[39m\u001b[39m'\u001b[39m]\n\u001b[1;32m      2\u001b[0m \u001b[39mtry\u001b[39;00m:\n\u001b[0;32m----> 3\u001b[0m     \u001b[39mprint\u001b[39m(\u001b[39mint\u001b[39;49m(w))\n\u001b[1;32m      4\u001b[0m \u001b[39mexcept\u001b[39;00m \u001b[39mValueError\u001b[39;00m:\n\u001b[1;32m      5\u001b[0m     \u001b[39mprint\u001b[39m(\u001b[39m\"\u001b[39m\u001b[39mThis is not an integer\u001b[39m\u001b[39m\"\u001b[39m)\n",
      "\u001b[0;31mTypeError\u001b[0m: int() argument must be a string, a bytes-like object or a real number, not 'list'"
     ]
    }
   ],
   "source": [
    "w=[0,True,None,'a']\n",
    "try:\n",
    "    print(int(w))\n",
    "except ValueError:\n",
    "    print(\"This is not an integer\")"
   ]
  },
  {
   "cell_type": "markdown",
   "id": "61f17e53",
   "metadata": {},
   "source": [
    "## Files and the Operating System"
   ]
  },
  {
   "cell_type": "markdown",
   "id": "d659eea3",
   "metadata": {},
   "source": [
    "To open a file for reading or writing, we use the built-in function *open* with either a relative or absolute path and an optional file encoding:"
   ]
  },
  {
   "cell_type": "code",
   "execution_count": null,
   "id": "a65ddcaf",
   "metadata": {},
   "outputs": [],
   "source": [
    "f=open(\"path\")"
   ]
  },
  {
   "cell_type": "markdown",
   "id": "f3e574c1",
   "metadata": {},
   "source": [
    "By default the file is opened in read mode. It is always recommended to close the file you previously opened:"
   ]
  },
  {
   "cell_type": "code",
   "execution_count": null,
   "id": "d544dad8",
   "metadata": {},
   "outputs": [],
   "source": [
    "f.close()"
   ]
  },
  {
   "cell_type": "markdown",
   "id": "c57b110c",
   "metadata": {},
   "source": [
    "To avoid this manually closing we use the function *with*:"
   ]
  },
  {
   "cell_type": "code",
   "execution_count": null,
   "id": "cca04c13",
   "metadata": {},
   "outputs": [],
   "source": [
    "with open(\"path\") as f:\n",
    "    pass"
   ]
  },
  {
   "cell_type": "markdown",
   "id": "9c4933d6",
   "metadata": {},
   "source": [
    "This will automatically close the file when exiting the with block"
   ]
  }
 ],
 "metadata": {
  "kernelspec": {
   "display_name": "Python 3 (ipykernel)",
   "language": "python",
   "name": "python3"
  },
  "language_info": {
   "codemirror_mode": {
    "name": "ipython",
    "version": 3
   },
   "file_extension": ".py",
   "mimetype": "text/x-python",
   "name": "python",
   "nbconvert_exporter": "python",
   "pygments_lexer": "ipython3",
   "version": "3.10.12"
  }
 },
 "nbformat": 4,
 "nbformat_minor": 5
}
