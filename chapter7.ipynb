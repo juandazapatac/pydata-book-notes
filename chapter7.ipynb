{
 "cells": [
  {
   "cell_type": "markdown",
   "metadata": {},
   "source": [
    "# Chapter 7 Data Cleaning and Preparation\n",
    "\n",
    "Data may come in a wide range of different messy formats, its cleaning is one of the most important steps in data analysis, reports say these taks may take up 80% or moro of an analyst's time.\n",
    "\n"
   ]
  },
  {
   "cell_type": "markdown",
   "metadata": {},
   "source": [
    "## 7.1 Handling Missing Data\n",
    "\n",
    "Python use the *None* value for null values, but pandas does it slightly differente using the NumPy NaN (np.nan) value for null values. <br>\n",
    "\n",
    "All the descriptive statistics in pandas objects exclude missing data by default. <br>\n",
    "\n",
    "Functions used for handling missing data:\n",
    ".isnull()<br>\n",
    ".notnull()<br>\n",
    ".fillna()<br>\n",
    ".dropna() where many options are available<br>"
   ]
  },
  {
   "cell_type": "markdown",
   "metadata": {},
   "source": [
    "## 7.2 Data Transformation\n"
   ]
  },
  {
   "cell_type": "markdown",
   "metadata": {},
   "source": [
    "**Duplicates**\n",
    "\n",
    "Here we work with the next two methods:<br><br>\n",
    ".duplicates() which returns a boolean Series writing True over values that had already been seen.<br>\n",
    ".drop_duplicates() by default it considers all of the columns but it is possible to be more specific.<br><br>\n",
    "Argument for both: keep=\"last\" \n"
   ]
  },
  {
   "cell_type": "markdown",
   "metadata": {},
   "source": [
    "**Applying functions and mapping**\n",
    "\n",
    ".map() and .applymap() can not only apply a function but also a mapping. Both are element-wise operations."
   ]
  },
  {
   "cell_type": "markdown",
   "metadata": {},
   "source": [
    "**Replacing**\n",
    "\n",
    ".fillna() was just a special case of the method .replace().<br>\n",
    "A dict-like object or lists may be used in this method."
   ]
  },
  {
   "cell_type": "markdown",
   "metadata": {},
   "source": [
    "**Renaming axis indexes**\n",
    "\n",
    "Indexes also have the .map() method which may be very useful to transform them. Re-assingments must be done to write data.\n",
    "\n",
    "For more flexibility use the .rename(index= , columns= ) method. It may be use also in conjuction with a dict-like object."
   ]
  }
 ],
 "metadata": {
  "kernelspec": {
   "display_name": "pydata-book",
   "language": "python",
   "name": "python3"
  },
  "language_info": {
   "codemirror_mode": {
    "name": "ipython",
    "version": 3
   },
   "file_extension": ".py",
   "mimetype": "text/x-python",
   "name": "python",
   "nbconvert_exporter": "python",
   "pygments_lexer": "ipython3",
   "version": "3.1.0"
  },
  "orig_nbformat": 4
 },
 "nbformat": 4,
 "nbformat_minor": 2
}
