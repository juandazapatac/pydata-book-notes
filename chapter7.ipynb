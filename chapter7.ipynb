{
 "cells": [
  {
   "cell_type": "markdown",
   "metadata": {},
   "source": [
    "# Chapter 7 Data Cleaning and Preparation\n",
    "\n",
    "Data may come in a wide range of different messy formats, its cleaning is one of the most important steps in data analysis, reports say these taks may take up 80% or moro of an analyst's time.\n",
    "\n"
   ]
  },
  {
   "cell_type": "markdown",
   "metadata": {},
   "source": [
    "## 7.1 Handling Missing Data\n",
    "\n",
    "Python use the *None* value for null values, but pandas does it slightly differente using the NumPy NaN (np.nan) value for null values. <br>\n",
    "\n",
    "All the descriptive statistics in pandas objects exclude missing data by default. <br>\n",
    "\n",
    "Functions used for handling missing data:<br>\n",
    ".isna()<br>\n",
    ".notna()<br>\n",
    ".fillna()<br>\n",
    ".dropna() where many options are available<br>"
   ]
  },
  {
   "cell_type": "markdown",
   "metadata": {},
   "source": [
    "## 7.2 Data Transformation\n"
   ]
  },
  {
   "cell_type": "markdown",
   "metadata": {},
   "source": [
    "**Duplicates**\n",
    "\n",
    "Here we work with the next two methods:<br><br>\n",
    ".duplicated() which returns a boolean Series writing True over values that had already been seen.<br>\n",
    ".drop_duplicates() by default it considers all of the columns but it is possible to be more specific.<br><br>\n",
    "Argument for both: keep=\"last\" \n"
   ]
  },
  {
   "cell_type": "markdown",
   "metadata": {},
   "source": [
    "**Applying functions and mapping**\n",
    "\n",
    ".map() and .applymap() can not only apply a function but also a mapping. Both are element-wise operations."
   ]
  },
  {
   "cell_type": "markdown",
   "metadata": {},
   "source": [
    "**Replacing**\n",
    "\n",
    ".fillna() was just a special case of the method .replace().<br>\n",
    "A dict-like object or lists may be used in this method."
   ]
  },
  {
   "cell_type": "markdown",
   "metadata": {},
   "source": [
    "**Renaming axis indexes**\n",
    "\n",
    "Indexes also have the .map() method which may be very useful to transform them. Re-assingments must be done to write data.\n",
    "\n",
    "For more flexibility use the .rename(index= , columns= ) method. It may be use also in conjuction with a dict-like object."
   ]
  },
  {
   "cell_type": "markdown",
   "metadata": {},
   "source": [
    "**Discretizacion and Binning**\n",
    "\n",
    "Use the cut and qcut functions to bin your data. <br><br>\n",
    "*The cut function* will divide the data you pass in into bins you also specified.<br> This creates a special Categorical object which has two main attributes: .codes and .categories<br>\n",
    "You can then apply the function pd.value_counts() to the object"
   ]
  },
  {
   "cell_type": "code",
   "execution_count": 10,
   "metadata": {},
   "outputs": [
    {
     "data": {
      "text/plain": [
       "['Mayor', 'Mayor', 'Menor', 'Mayor', 'Menor', 'Menor', 'Mayor', 'Mayor']\n",
       "Categories (2, object): ['Menor' < 'Mayor']"
      ]
     },
     "execution_count": 10,
     "metadata": {},
     "output_type": "execute_result"
    }
   ],
   "source": [
    "import pandas as pd\n",
    "ages=[18,34,12,65,15,17,90,45]\n",
    "bins=[0,18,100]\n",
    "cats=pd.cut(ages,bins,right=False,labels=[\"Menor\",\"Mayor\"])\n",
    "cats"
   ]
  },
  {
   "cell_type": "markdown",
   "metadata": {},
   "source": [
    "The argument labels changes the bins names. the argument right changes the intervals limits.<br><br>\n",
    "Instead of specific bins you can pass a number n and pandas will create n bins of equal size according to your data min and max values:\n",
    "\n",
    "\n"
   ]
  },
  {
   "cell_type": "code",
   "execution_count": 11,
   "metadata": {},
   "outputs": [
    {
     "data": {
      "text/plain": [
       "[(11.922, 31.5], (31.5, 51.0], (11.922, 31.5], (51.0, 70.5], (11.922, 31.5], (11.922, 31.5], (70.5, 90.0], (31.5, 51.0]]\n",
       "Categories (4, interval[float64, right]): [(11.922, 31.5] < (31.5, 51.0] < (51.0, 70.5] < (70.5, 90.0]]"
      ]
     },
     "execution_count": 11,
     "metadata": {},
     "output_type": "execute_result"
    }
   ],
   "source": [
    "cats=pd.cut(ages,4)\n",
    "cats"
   ]
  },
  {
   "cell_type": "markdown",
   "metadata": {},
   "source": [
    "\n",
    "On the other hand, *the qcut function* makes bins out of quantiles. (Remember quantiles create intervals of equal probability). "
   ]
  },
  {
   "cell_type": "code",
   "execution_count": 28,
   "metadata": {},
   "outputs": [
    {
     "data": {
      "text/plain": [
       "[(17.75, 50.0], (17.75, 50.0], (11.999, 17.75], (50.0, 76.0], (11.999, 17.75], ..., (76.0, 112.0], (11.999, 17.75], (11.999, 17.75], (17.75, 50.0], (76.0, 112.0]]\n",
       "Length: 20\n",
       "Categories (4, interval[float64, right]): [(11.999, 17.75] < (17.75, 50.0] < (50.0, 76.0] < (76.0, 112.0]]"
      ]
     },
     "execution_count": 28,
     "metadata": {},
     "output_type": "execute_result"
    }
   ],
   "source": [
    "ages=[18,34,12,65,15,17,90,45,56,76,23,55,63,76,96,94,12,13,45,112]\n",
    "cats=pd.qcut(ages,4)\n",
    "cats"
   ]
  },
  {
   "cell_type": "markdown",
   "metadata": {},
   "source": [
    "As with cut, you can pass your own quantiles (numbers between 0 and 1)"
   ]
  }
 ],
 "metadata": {
  "kernelspec": {
   "display_name": "pydata-book",
   "language": "python",
   "name": "python3"
  },
  "language_info": {
   "codemirror_mode": {
    "name": "ipython",
    "version": 3
   },
   "file_extension": ".py",
   "mimetype": "text/x-python",
   "name": "python",
   "nbconvert_exporter": "python",
   "pygments_lexer": "ipython3",
   "version": "3.10.12"
  },
  "orig_nbformat": 4
 },
 "nbformat": 4,
 "nbformat_minor": 2
}
