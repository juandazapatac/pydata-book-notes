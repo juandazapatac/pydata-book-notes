{
 "cells": [
  {
   "cell_type": "markdown",
   "metadata": {},
   "source": [
    "# Chapter 5"
   ]
  },
  {
   "cell_type": "markdown",
   "metadata": {},
   "source": [
    "pandas is the most used and known library for data analysis in Python as it has many easy to use tools for data cleaning and analysis. \n",
    "\n",
    "**pandas vs Numpy** Numpy is focus on numeric and homogeneous data while pandas is focused on tabular and heterogeneous data. pandas adopted Numpy's array-oriented computing.\n",
    "\n",
    "Convenctions:"
   ]
  },
  {
   "cell_type": "code",
   "execution_count": 1,
   "metadata": {},
   "outputs": [],
   "source": [
    "import pandas as pd\n",
    "from pandas import Series, DataFrame"
   ]
  },
  {
   "cell_type": "markdown",
   "metadata": {},
   "source": [
    "## Series\n",
    "\n",
    "They are one-dimensional array-like objects containing a sequence of values and an associated array of labels. Many of the Numpy array functionalities are present in Series too.\n",
    "\n",
    "*I see Series as the result of the combination between Numpy arrays and dictionaries* \n",
    "\n",
    "*Es un diccionario con las propiedades de un Numpy array*\n",
    "\n",
    "Its easiest form is made up from just specifying the values:"
   ]
  },
  {
   "cell_type": "code",
   "execution_count": 2,
   "metadata": {},
   "outputs": [
    {
     "name": "stdout",
     "output_type": "stream",
     "text": [
      "0     6\n",
      "1     9\n",
      "2    10\n",
      "3    11\n",
      "dtype: int64\n"
     ]
    }
   ],
   "source": [
    "ages=pd.Series([6,9,10,11])\n",
    "print(ages)"
   ]
  },
  {
   "cell_type": "markdown",
   "metadata": {},
   "source": [
    "Here indexes are just positions: "
   ]
  },
  {
   "cell_type": "code",
   "execution_count": 3,
   "metadata": {},
   "outputs": [
    {
     "data": {
      "text/plain": [
       "RangeIndex(start=0, stop=4, step=1)"
      ]
     },
     "execution_count": 3,
     "metadata": {},
     "output_type": "execute_result"
    }
   ],
   "source": [
    "ages.index"
   ]
  },
  {
   "cell_type": "markdown",
   "metadata": {},
   "source": [
    "But they can be much more than that, they can be almost everything you want:"
   ]
  },
  {
   "cell_type": "code",
   "execution_count": 4,
   "metadata": {},
   "outputs": [
    {
     "name": "stdout",
     "output_type": "stream",
     "text": [
      "Juan        6\n",
      "Pedro       9\n",
      "Sofia      10\n",
      "Mariana    11\n",
      "dtype: int64\n"
     ]
    }
   ],
   "source": [
    "ages=pd.Series([6,9,10,11],index=[\"Juan\",\"Pedro\",\"Sofia\",\"Mariana\"])\n",
    "print(ages)"
   ]
  },
  {
   "cell_type": "markdown",
   "metadata": {},
   "source": [
    "As seen before, both values and index are attributes from the object Series:"
   ]
  },
  {
   "cell_type": "code",
   "execution_count": 5,
   "metadata": {},
   "outputs": [
    {
     "data": {
      "text/plain": [
       "array([ 6,  9, 10, 11])"
      ]
     },
     "execution_count": 5,
     "metadata": {},
     "output_type": "execute_result"
    }
   ],
   "source": [
    "ages.values"
   ]
  },
  {
   "cell_type": "code",
   "execution_count": 6,
   "metadata": {},
   "outputs": [
    {
     "data": {
      "text/plain": [
       "Index(['Juan', 'Pedro', 'Sofia', 'Mariana'], dtype='object')"
      ]
     },
     "execution_count": 6,
     "metadata": {},
     "output_type": "execute_result"
    }
   ],
   "source": [
    "ages.index"
   ]
  },
  {
   "cell_type": "markdown",
   "metadata": {},
   "source": [
    "You can search for values using their index as it is done with dictionary keys."
   ]
  },
  {
   "cell_type": "code",
   "execution_count": 7,
   "metadata": {},
   "outputs": [
    {
     "data": {
      "text/plain": [
       "6"
      ]
     },
     "execution_count": 7,
     "metadata": {},
     "output_type": "execute_result"
    }
   ],
   "source": [
    "ages[\"Juan\"]"
   ]
  },
  {
   "cell_type": "markdown",
   "metadata": {},
   "source": [
    "And do re-assignments too:"
   ]
  },
  {
   "cell_type": "code",
   "execution_count": 8,
   "metadata": {},
   "outputs": [],
   "source": [
    "ages[\"Juan\"]=24"
   ]
  },
  {
   "cell_type": "code",
   "execution_count": 9,
   "metadata": {},
   "outputs": [
    {
     "data": {
      "text/plain": [
       "Juan       24\n",
       "Pedro       9\n",
       "Sofia      10\n",
       "Mariana    11\n",
       "dtype: int64"
      ]
     },
     "execution_count": 9,
     "metadata": {},
     "output_type": "execute_result"
    }
   ],
   "source": [
    "ages"
   ]
  },
  {
   "cell_type": "markdown",
   "metadata": {},
   "source": [
    "We can also do: Boolean indexing, Fancy indexing, in quests with indices (\"Juan\" in ages)\n",
    "\n",
    "You can re-write a Series indices as:\n",
    "\n"
   ]
  },
  {
   "cell_type": "code",
   "execution_count": 10,
   "metadata": {},
   "outputs": [
    {
     "name": "stdout",
     "output_type": "stream",
     "text": [
      "Juan     24\n",
      "Sofia    10\n",
      "dtype: int64\n"
     ]
    }
   ],
   "source": [
    "ages=pd.Series(ages,index=[\"Juan\",\"Sofia\"])\n",
    "print(ages)"
   ]
  },
  {
   "cell_type": "markdown",
   "metadata": {},
   "source": [
    "**Series and dicts**\n",
    "\n",
    "You can pass a dict to a Series."
   ]
  },
  {
   "cell_type": "markdown",
   "metadata": {},
   "source": [
    "**Nan**\n",
    "\n",
    "Means *not a number* and shows a value is missing."
   ]
  },
  {
   "cell_type": "markdown",
   "metadata": {},
   "source": [
    "**notnull and isnull** \n",
    "\n",
    "Use these two pandas fuctions to search for null values (NaN)"
   ]
  },
  {
   "cell_type": "markdown",
   "metadata": {},
   "source": [
    "**Join operation**\n",
    "\n",
    "Math operations between Series work as a join operation between databases."
   ]
  },
  {
   "cell_type": "markdown",
   "metadata": {},
   "source": [
    "**The name attribute**\n",
    "\n",
    "Both Series object and its index array have a *name* attribute"
   ]
  },
  {
   "cell_type": "markdown",
   "metadata": {},
   "source": [
    "## DataFrame \n",
    "Basically a dict of Series<br><br>\n",
    "**attributes**<br>\n",
    ".columns (.name)<br>\n",
    ".index (.name .map())<br>\n",
    ".column_name<br>\n",
    ".loc[ ]<br>\n",
    ".iloc[ ]<br>\n",
    ".values <br>\n",
    ".T<br>\n",
    ".dtypes<br><br>\n",
    "**methods**<br>\n",
    ".head() <br>\n",
    ".tail()<br>\n",
    ".read_csv(\"path\")<br>\n",
    ".reindex()<br>\n",
    ".drop()<br>\n",
    ".replace()<br>\n",
    ".fillna()<br>\n",
    ".sort_index()<br>\n",
    ".sort_values()<br>\n",
    ".rank()<br>\n",
    ".dropna()<br>\n",
    ".isna()<br>\n",
    ".notna()<br>\n",
    ".apply()<br>\n",
    ".applymap()<br>\n",
    ".duplicated()<br>\n",
    ".drop_duplicates()<br>\n",
    ".rename()<br>"
   ]
  },
  {
   "cell_type": "code",
   "execution_count": 11,
   "metadata": {},
   "outputs": [
    {
     "name": "stdout",
     "output_type": "stream",
     "text": [
      "   year   state  pop pop2050\n",
      "1  2000    Ohio  1.5     NaN\n",
      "2  2001    Ohio  1.7     NaN\n",
      "3  2002    Ohio  3.6     NaN\n",
      "4  2001  Nevada  2.4     NaN\n",
      "5  2002  Nevada  2.9     NaN\n",
      "6  2003  Nevada  3.2     NaN\n"
     ]
    }
   ],
   "source": [
    "import pandas as pd\n",
    "\n",
    "data = {\"state\": [\"Ohio\", \"Ohio\", \"Ohio\", \"Nevada\", \"Nevada\", \"Nevada\"],\n",
    "        \"year\": [2000, 2001, 2002, 2001, 2002, 2003],\n",
    "        \"pop\": [1.5, 1.7, 3.6, 2.4, 2.9, 3.2]}\n",
    "frame=pd.DataFrame(data,columns=[\"year\",\"state\",\"pop\",\"pop2050\"],index=range(1,7))\n",
    "print(frame)"
   ]
  },
  {
   "cell_type": "markdown",
   "metadata": {},
   "source": [
    "A column is basically a Series and I can call them using a dict-notation:"
   ]
  },
  {
   "cell_type": "code",
   "execution_count": 12,
   "metadata": {},
   "outputs": [
    {
     "data": {
      "text/plain": [
       "1      Ohio\n",
       "2      Ohio\n",
       "3      Ohio\n",
       "4    Nevada\n",
       "5    Nevada\n",
       "6    Nevada\n",
       "Name: state, dtype: object"
      ]
     },
     "execution_count": 12,
     "metadata": {},
     "output_type": "execute_result"
    }
   ],
   "source": [
    "frame[\"state\"]"
   ]
  },
  {
   "cell_type": "markdown",
   "metadata": {},
   "source": [
    "or the attribute notation:"
   ]
  },
  {
   "cell_type": "code",
   "execution_count": 13,
   "metadata": {},
   "outputs": [
    {
     "data": {
      "text/plain": [
       "1    2000\n",
       "2    2001\n",
       "3    2002\n",
       "4    2001\n",
       "5    2002\n",
       "6    2003\n",
       "Name: year, dtype: int64"
      ]
     },
     "execution_count": 13,
     "metadata": {},
     "output_type": "execute_result"
    }
   ],
   "source": [
    "frame.year"
   ]
  },
  {
   "cell_type": "markdown",
   "metadata": {},
   "source": [
    "We can also search for rows with the attribute .loc"
   ]
  },
  {
   "cell_type": "code",
   "execution_count": 14,
   "metadata": {},
   "outputs": [
    {
     "data": {
      "text/plain": [
       "year       2001\n",
       "state      Ohio\n",
       "pop         1.7\n",
       "pop2050     NaN\n",
       "Name: 2, dtype: object"
      ]
     },
     "execution_count": 14,
     "metadata": {},
     "output_type": "execute_result"
    }
   ],
   "source": [
    "frame.loc[2]"
   ]
  },
  {
   "cell_type": "markdown",
   "metadata": {},
   "source": [
    "We can do new assignments to our columns. We can assign a scalar value, a range, an arange, a list, an array and even a Series (When assigning a Series a join operation will be carry out between the DataFrame's index and the Series ones)"
   ]
  },
  {
   "cell_type": "code",
   "execution_count": 15,
   "metadata": {},
   "outputs": [],
   "source": [
    "frame[\"pop2050\"]=range(6)"
   ]
  },
  {
   "cell_type": "markdown",
   "metadata": {},
   "source": [
    "Remember these are views not copies so any change will affect the original DataFrame (They are mutable)"
   ]
  },
  {
   "cell_type": "markdown",
   "metadata": {},
   "source": [
    "As with dicts, new columns can be created just by doing a new assignment:"
   ]
  },
  {
   "cell_type": "code",
   "execution_count": 16,
   "metadata": {},
   "outputs": [],
   "source": [
    "frame[\"pop2070\"]=range(10,16)"
   ]
  },
  {
   "cell_type": "code",
   "execution_count": 17,
   "metadata": {},
   "outputs": [],
   "source": [
    "frame[\"eastern\"]=frame.state==\"Ohio\""
   ]
  },
  {
   "cell_type": "markdown",
   "metadata": {},
   "source": [
    "To delete a column use *del*  (Use the [ ] sintaxis for both creating new columns and deleting them)"
   ]
  },
  {
   "cell_type": "code",
   "execution_count": 18,
   "metadata": {},
   "outputs": [],
   "source": [
    "del frame[\"pop2070\"]"
   ]
  },
  {
   "cell_type": "markdown",
   "metadata": {},
   "source": [
    "Is it possible to switch the index and columns using the traspose attribute:"
   ]
  },
  {
   "cell_type": "code",
   "execution_count": 19,
   "metadata": {},
   "outputs": [
    {
     "data": {
      "text/html": [
       "<div>\n",
       "<style scoped>\n",
       "    .dataframe tbody tr th:only-of-type {\n",
       "        vertical-align: middle;\n",
       "    }\n",
       "\n",
       "    .dataframe tbody tr th {\n",
       "        vertical-align: top;\n",
       "    }\n",
       "\n",
       "    .dataframe thead th {\n",
       "        text-align: right;\n",
       "    }\n",
       "</style>\n",
       "<table border=\"1\" class=\"dataframe\">\n",
       "  <thead>\n",
       "    <tr style=\"text-align: right;\">\n",
       "      <th></th>\n",
       "      <th>1</th>\n",
       "      <th>2</th>\n",
       "      <th>3</th>\n",
       "      <th>4</th>\n",
       "      <th>5</th>\n",
       "      <th>6</th>\n",
       "    </tr>\n",
       "  </thead>\n",
       "  <tbody>\n",
       "    <tr>\n",
       "      <th>year</th>\n",
       "      <td>2000</td>\n",
       "      <td>2001</td>\n",
       "      <td>2002</td>\n",
       "      <td>2001</td>\n",
       "      <td>2002</td>\n",
       "      <td>2003</td>\n",
       "    </tr>\n",
       "    <tr>\n",
       "      <th>state</th>\n",
       "      <td>Ohio</td>\n",
       "      <td>Ohio</td>\n",
       "      <td>Ohio</td>\n",
       "      <td>Nevada</td>\n",
       "      <td>Nevada</td>\n",
       "      <td>Nevada</td>\n",
       "    </tr>\n",
       "    <tr>\n",
       "      <th>pop</th>\n",
       "      <td>1.5</td>\n",
       "      <td>1.7</td>\n",
       "      <td>3.6</td>\n",
       "      <td>2.4</td>\n",
       "      <td>2.9</td>\n",
       "      <td>3.2</td>\n",
       "    </tr>\n",
       "    <tr>\n",
       "      <th>pop2050</th>\n",
       "      <td>0</td>\n",
       "      <td>1</td>\n",
       "      <td>2</td>\n",
       "      <td>3</td>\n",
       "      <td>4</td>\n",
       "      <td>5</td>\n",
       "    </tr>\n",
       "    <tr>\n",
       "      <th>eastern</th>\n",
       "      <td>True</td>\n",
       "      <td>True</td>\n",
       "      <td>True</td>\n",
       "      <td>False</td>\n",
       "      <td>False</td>\n",
       "      <td>False</td>\n",
       "    </tr>\n",
       "  </tbody>\n",
       "</table>\n",
       "</div>"
      ],
      "text/plain": [
       "            1     2     3       4       5       6\n",
       "year     2000  2001  2002    2001    2002    2003\n",
       "state    Ohio  Ohio  Ohio  Nevada  Nevada  Nevada\n",
       "pop       1.5   1.7   3.6     2.4     2.9     3.2\n",
       "pop2050     0     1     2       3       4       5\n",
       "eastern  True  True  True   False   False   False"
      ]
     },
     "execution_count": 19,
     "metadata": {},
     "output_type": "execute_result"
    }
   ],
   "source": [
    "frame.T"
   ]
  },
  {
   "cell_type": "markdown",
   "metadata": {},
   "source": [
    "We can assign name attributes to the index and columns objects. \n",
    "\n",
    "The values attribute returns a 2d ndarray with the DataFrame records:"
   ]
  },
  {
   "cell_type": "code",
   "execution_count": 20,
   "metadata": {},
   "outputs": [
    {
     "data": {
      "text/plain": [
       "array([[2000, 'Ohio', 1.5, 0, True],\n",
       "       [2001, 'Ohio', 1.7, 1, True],\n",
       "       [2002, 'Ohio', 3.6, 2, True],\n",
       "       [2001, 'Nevada', 2.4, 3, False],\n",
       "       [2002, 'Nevada', 2.9, 4, False],\n",
       "       [2003, 'Nevada', 3.2, 5, False]], dtype=object)"
      ]
     },
     "execution_count": 20,
     "metadata": {},
     "output_type": "execute_result"
    }
   ],
   "source": [
    "frame.values"
   ]
  },
  {
   "cell_type": "markdown",
   "metadata": {},
   "source": [
    "**About Index Objects**\n",
    "\n",
    "They are immutable, array-like, and many set-logic applies them."
   ]
  },
  {
   "cell_type": "markdown",
   "metadata": {},
   "source": [
    "## 5.2 Essential Functionality\n",
    "\n",
    "**Reindexing**\n",
    "\n",
    "We can reorganize our index or columns by using the .reindex method. It creates a new object. Missing values (NaN) are introduced where new index values are created. "
   ]
  },
  {
   "cell_type": "code",
   "execution_count": 21,
   "metadata": {},
   "outputs": [
    {
     "name": "stdout",
     "output_type": "stream",
     "text": [
      "    state  pop  year  eastern   USA\n",
      "1    Ohio  1.5  2000     True  True\n",
      "2    Ohio  1.7  2001     True  True\n",
      "3    Ohio  3.6  2002     True  True\n",
      "4  Nevada  2.4  2001    False  True\n",
      "5  Nevada  2.9  2002    False  True\n",
      "6  Nevada  3.2  2003    False  True\n"
     ]
    }
   ],
   "source": [
    "frame2=frame.reindex(['state','pop','year','eastern','USA'],axis=1,fill_value=True) # A new object is produced\n",
    "print(frame2)"
   ]
  },
  {
   "cell_type": "markdown",
   "metadata": {},
   "source": [
    "**Dropping values**"
   ]
  },
  {
   "cell_type": "markdown",
   "metadata": {},
   "source": [
    "The .drop() method is a simple way to drop entries from an Axis in a DataFrame. By default it searchs through axis 0. "
   ]
  },
  {
   "cell_type": "code",
   "execution_count": 22,
   "metadata": {},
   "outputs": [
    {
     "data": {
      "text/html": [
       "<div>\n",
       "<style scoped>\n",
       "    .dataframe tbody tr th:only-of-type {\n",
       "        vertical-align: middle;\n",
       "    }\n",
       "\n",
       "    .dataframe tbody tr th {\n",
       "        vertical-align: top;\n",
       "    }\n",
       "\n",
       "    .dataframe thead th {\n",
       "        text-align: right;\n",
       "    }\n",
       "</style>\n",
       "<table border=\"1\" class=\"dataframe\">\n",
       "  <thead>\n",
       "    <tr style=\"text-align: right;\">\n",
       "      <th></th>\n",
       "      <th>state</th>\n",
       "      <th>pop</th>\n",
       "      <th>year</th>\n",
       "      <th>eastern</th>\n",
       "      <th>USA</th>\n",
       "    </tr>\n",
       "  </thead>\n",
       "  <tbody>\n",
       "    <tr>\n",
       "      <th>1</th>\n",
       "      <td>Ohio</td>\n",
       "      <td>1.5</td>\n",
       "      <td>2000</td>\n",
       "      <td>True</td>\n",
       "      <td>True</td>\n",
       "    </tr>\n",
       "    <tr>\n",
       "      <th>2</th>\n",
       "      <td>Ohio</td>\n",
       "      <td>1.7</td>\n",
       "      <td>2001</td>\n",
       "      <td>True</td>\n",
       "      <td>True</td>\n",
       "    </tr>\n",
       "    <tr>\n",
       "      <th>4</th>\n",
       "      <td>Nevada</td>\n",
       "      <td>2.4</td>\n",
       "      <td>2001</td>\n",
       "      <td>False</td>\n",
       "      <td>True</td>\n",
       "    </tr>\n",
       "    <tr>\n",
       "      <th>5</th>\n",
       "      <td>Nevada</td>\n",
       "      <td>2.9</td>\n",
       "      <td>2002</td>\n",
       "      <td>False</td>\n",
       "      <td>True</td>\n",
       "    </tr>\n",
       "  </tbody>\n",
       "</table>\n",
       "</div>"
      ],
      "text/plain": [
       "    state  pop  year  eastern   USA\n",
       "1    Ohio  1.5  2000     True  True\n",
       "2    Ohio  1.7  2001     True  True\n",
       "4  Nevada  2.4  2001    False  True\n",
       "5  Nevada  2.9  2002    False  True"
      ]
     },
     "execution_count": 22,
     "metadata": {},
     "output_type": "execute_result"
    }
   ],
   "source": [
    "frame2.drop([3,6]) # A new object is also produced"
   ]
  },
  {
   "cell_type": "markdown",
   "metadata": {},
   "source": [
    "**Indexing and Slicing**<br><br>\n",
    "**Series**<br>\n",
    "I find there is actually a lot of ambiguity when indexing through Series when the index labels are numbers, sometimes could be hard for pandas to distinguish wheter we are using a label-index or an integer-index, the most easy solution for this is to use the operators .loc[ ] and .iloc[ ] respectively:\n",
    "    \n"
   ]
  },
  {
   "cell_type": "code",
   "execution_count": 23,
   "metadata": {},
   "outputs": [
    {
     "name": "stdout",
     "output_type": "stream",
     "text": [
      "1   -0.294836\n",
      "2   -1.111290\n",
      "3   -0.499841\n",
      "4   -1.470814\n",
      "dtype: float64\n"
     ]
    }
   ],
   "source": [
    "import numpy as np\n",
    "ser=pd.Series(np.random.standard_normal(4),index=np.arange(1,5))\n",
    "print(ser)"
   ]
  },
  {
   "cell_type": "code",
   "execution_count": 24,
   "metadata": {},
   "outputs": [
    {
     "data": {
      "text/plain": [
       "-0.29483596281111546"
      ]
     },
     "execution_count": 24,
     "metadata": {},
     "output_type": "execute_result"
    }
   ],
   "source": [
    "ser.loc[1]"
   ]
  },
  {
   "cell_type": "code",
   "execution_count": 25,
   "metadata": {},
   "outputs": [
    {
     "data": {
      "text/plain": [
       "-1.1112897958545733"
      ]
     },
     "execution_count": 25,
     "metadata": {},
     "output_type": "execute_result"
    }
   ],
   "source": [
    "ser.iloc[1]"
   ]
  },
  {
   "cell_type": "markdown",
   "metadata": {},
   "source": [
    "**DataFrame**\n",
    "\n",
    "df[value] selects columns<br><br>\n",
    "df.loc[value] selects rows by label<br>\n",
    "df.loc[:,value] selects columns by label<br>\n",
    "df.loc[value1,value2] selects rows and columns by label<br><br>\n",
    "df.iloc[value] selects rows by integer position<br>\n",
    "df.iloc[:,value] selects columns by integer position<br>\n",
    "df.iloc[value1,value2] selects rows and columns by integer position"
   ]
  },
  {
   "cell_type": "markdown",
   "metadata": {},
   "source": [
    "**Arithmetics**\n",
    "\n",
    "When doing arithmetics with pandas objects, ***data alignment is key***. They work as database operations where the operation is only carry out where a relationship is match. In Series we need an indices relationship to be match, and in DataFrames both an indices and columns relationship.<br>\n",
    "Where there is no match, pandas adds a NaN value.<br><br>\n",
    "The addition operation follows the union operation logic (from set logic)<br><br>\n",
    "The most used arithmetics functions are:<br>\n",
    "- .add()\n",
    "- .sub()\n",
    "- .div()\n",
    "- .mul()\n",
    "- .pow()\n",
    "And all of them receive a very interesting argument: *fill_value*<br><br>\n",
    "\n",
    "When doing operations between Series and DataFrames occurs ***Broadcasting***. The Series operates row by row (or column by column) through the DataFrame, doing kind of a diffusion through it.<br>\n",
    "Use arithmetics methods to choose which axis you want to operate through.\n",
    "\n"
   ]
  },
  {
   "cell_type": "markdown",
   "metadata": {},
   "source": [
    "**Function Application**\n",
    "\n",
    "1. Numpy ufuncs which are element-wise can also be applied to pandas objects (including our beloved ***np.where()***)\n",
    "2. The .apply(f) method applies a function on one-dimensional arrays (rows or columns). By default it's applied once on each column. Lambda functions can be used.\n",
    "3. We can use .applymap() to apply an element-wise Python function to the DataFrame. (.map() for Series)\n"
   ]
  },
  {
   "cell_type": "markdown",
   "metadata": {},
   "source": [
    "**Sorting**\n",
    "\n",
    "In Series you can sort lexicographically sort by index or by values, use the *.sort_index()* and *.sort_values()* methods respectively.<br><br>\n",
    "With DataFrames, you can sort by index on either axis.<br>\n",
    "When sorting them by values you can use data in our or more columns to be the sort keys.\n",
    "<br><br>\n",
    "By default, data is sorted in ascending order but you can change that using the argument: *ascending=False*\n",
    "\n"
   ]
  },
  {
   "cell_type": "markdown",
   "metadata": {},
   "source": [
    "**Ranking**\n",
    "\n",
    "You can create rankings by using the .rank() method. By default tie-breaking is done by average value.<br>\n",
    "In DataFrames you can either compute ranks over the rows or over the columns.<br>\n",
    "\n",
    "Other tie-breaking methods: \"first\" \"max\" \"min\". (ascending=True ranks descending)"
   ]
  },
  {
   "cell_type": "markdown",
   "metadata": {},
   "source": [
    "**Duplicate labels**\n",
    "\n",
    "To discover wheter an index has or not duplicate labels use the index attribute *.is_unique*"
   ]
  },
  {
   "cell_type": "code",
   "execution_count": 1,
   "metadata": {},
   "outputs": [
    {
     "data": {
      "text/plain": [
       "False"
      ]
     },
     "execution_count": 1,
     "metadata": {},
     "output_type": "execute_result"
    }
   ],
   "source": [
    "import pandas as pd\n",
    "ser=pd.Series([4,6,7],index=list(\"aia\"))\n",
    "ser.index.is_unique"
   ]
  },
  {
   "cell_type": "markdown",
   "metadata": {},
   "source": [
    "**Descriptive statistics**\n",
    "\n",
    "Some of the most used pandas methods for this are:<br>\n",
    ".sum()<br>\n",
    ".mean()<br>\n",
    ".cumsum()<br>\n",
    ".idxmax()<br>\n",
    ".idxmin()<br>\n",
    ".describe()<br>\n",
    "By default they ignore the NaN values, you can change this with the attribute skipna. You can also change the axis to compute over.<br><br>\n",
    "The .corr() and .cov() methods for correlation and covariance respectively are also available for computations between pandas objects\n",
    "<br><br>\n",
    "Some other really useful methods are:<br>\n",
    ".unique() used for Series. Returns a Series without duplicate values<br>\n",
    "**.value_counts() used to calculate frecuencies**. In DataFrames it can be used to create an histogram.\n",
    ".isin() used to filter values. "
   ]
  }
 ],
 "metadata": {
  "kernelspec": {
   "display_name": "pydata-book",
   "language": "python",
   "name": "python3"
  },
  "language_info": {
   "codemirror_mode": {
    "name": "ipython",
    "version": 3
   },
   "file_extension": ".py",
   "mimetype": "text/x-python",
   "name": "python",
   "nbconvert_exporter": "python",
   "pygments_lexer": "ipython3",
   "version": "3.1.0"
  },
  "orig_nbformat": 4
 },
 "nbformat": 4,
 "nbformat_minor": 2
}
