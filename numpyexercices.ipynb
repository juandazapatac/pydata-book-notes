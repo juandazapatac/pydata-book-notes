{
 "cells": [
  {
   "cell_type": "code",
   "execution_count": 10,
   "metadata": {},
   "outputs": [
    {
     "name": "stdout",
     "output_type": "stream",
     "text": [
      "zero(s) found\n"
     ]
    }
   ],
   "source": [
    "# Write a NumPy program to test whether none of the elements of a given array are zero. \n",
    "import numpy as np\n",
    "x = np.array([0, 1, 2, 3])\n",
    "if True in (x==0):\n",
    "    print(\"zero(s) found\")\n",
    "else:\n",
    "    print(\"no zero(s) found\")"
   ]
  },
  {
   "cell_type": "code",
   "execution_count": 11,
   "metadata": {},
   "outputs": [
    {
     "name": "stdout",
     "output_type": "stream",
     "text": [
      "zero(s) found\n"
     ]
    }
   ],
   "source": [
    "# Write a NumPy program to test whether none of the elements of a given array are zero. \n",
    "# solved with .all() method \n",
    "import numpy as np\n",
    "x = np.array([0, 1, 2, 3])\n",
    "if x.all(0):\n",
    "    print(\"no zero(s) found\")\n",
    "else:\n",
    "    print(\"zero(s) found\")"
   ]
  },
  {
   "cell_type": "code",
   "execution_count": 12,
   "metadata": {},
   "outputs": [
    {
     "name": "stdout",
     "output_type": "stream",
     "text": [
      "no-zero element(s)\n"
     ]
    }
   ],
   "source": [
    "# Write a NumPy program to test if any of the elements of a given array are non-zero. \n",
    "import numpy as np\n",
    "x = np.array([0, 1, 2, 3])\n",
    "if False in (x==0):\n",
    "    print(\"no-zero element(s)\")\n",
    "else:\n",
    "    print(\"all zeros\")"
   ]
  },
  {
   "cell_type": "code",
   "execution_count": 18,
   "metadata": {},
   "outputs": [
    {
     "name": "stdout",
     "output_type": "stream",
     "text": [
      "[ True False]\n",
      "[ True  True]\n",
      "[False False]\n",
      "[False  True]\n"
     ]
    }
   ],
   "source": [
    "# Write a NumPy program to create an element-wise comparison (greater, greater_equal, less and less_equal) of two given arrays.\n",
    "\n",
    "x = np.array([3, 5])\n",
    "y = np.array([2, 5])\n",
    "print(x>y)\n",
    "print(x>=y)\n",
    "print(x<y)\n",
    "print(x<=y)"
   ]
  },
  {
   "cell_type": "code",
   "execution_count": 23,
   "metadata": {},
   "outputs": [
    {
     "data": {
      "text/plain": [
       "array([[0, 0, 0, 0, 0, 0, 0, 0, 0, 0, 1, 1, 1, 1, 1, 1, 1, 1, 1, 1, 5, 5,\n",
       "        5, 5, 5, 5, 5, 5, 5, 5]])"
      ]
     },
     "execution_count": 23,
     "metadata": {},
     "output_type": "execute_result"
    }
   ],
   "source": [
    "# Write a NumPy program to create an array of 10 zeros, 10 ones, and 10 fives. \n",
    "np.array([[0]*10,[1]*10,[5]*10]).reshape(1,30)"
   ]
  },
  {
   "cell_type": "code",
   "execution_count": 25,
   "metadata": {},
   "outputs": [
    {
     "data": {
      "text/plain": [
       "array([30, 31, 32, 33, 34, 35, 36, 37, 38, 39, 40, 41, 42, 43, 44, 45, 46,\n",
       "       47, 48, 49, 50, 51, 52, 53, 54, 55, 56, 57, 58, 59, 60, 61, 62, 63,\n",
       "       64, 65, 66, 67, 68, 69, 70])"
      ]
     },
     "execution_count": 25,
     "metadata": {},
     "output_type": "execute_result"
    }
   ],
   "source": [
    "#Write a NumPy program to create an array of integers from 30 to 70.\n",
    "np.arange(30,71)\n"
   ]
  },
  {
   "cell_type": "code",
   "execution_count": 27,
   "metadata": {},
   "outputs": [
    {
     "data": {
      "text/plain": [
       "array([30, 32, 34, 36, 38, 40, 42, 44, 46, 48, 50, 52, 54, 56, 58, 60, 62,\n",
       "       64, 66, 68, 70])"
      ]
     },
     "execution_count": 27,
     "metadata": {},
     "output_type": "execute_result"
    }
   ],
   "source": [
    "# Write a NumPy program to create an array of all even integers from 30 to 70.\n",
    "np.arange(30,71,2)"
   ]
  },
  {
   "cell_type": "code",
   "execution_count": 28,
   "metadata": {},
   "outputs": [
    {
     "data": {
      "text/plain": [
       "array([[1., 0., 0.],\n",
       "       [0., 1., 0.],\n",
       "       [0., 0., 1.]])"
      ]
     },
     "execution_count": 28,
     "metadata": {},
     "output_type": "execute_result"
    }
   ],
   "source": [
    "# Write a NumPy program to create a 3x3 identity matrix (16)\n",
    "\n",
    "np.eye(3)"
   ]
  },
  {
   "cell_type": "code",
   "execution_count": 29,
   "metadata": {},
   "outputs": [
    {
     "name": "stdout",
     "output_type": "stream",
     "text": [
      "[ 1 16  9 20]\n"
     ]
    }
   ],
   "source": [
    "# Write a NumPy program to multiply the values of two given vectors (24)\n",
    "x = np.array([1, 8, 3, 5])\n",
    "y= np.array([1,2,3,4])\n",
    "print(x*y)"
   ]
  },
  {
   "cell_type": "code",
   "execution_count": 33,
   "metadata": {},
   "outputs": [
    {
     "name": "stdout",
     "output_type": "stream",
     "text": [
      "The number of rows is 3 and the number of columns is 4\n"
     ]
    }
   ],
   "source": [
    "# Write a NumPy program to find the number of rows and columns in a given matrix. (26)\n",
    "m= np.arange(10,22).reshape((3, 4))\n",
    "print(\"The number of rows is\",m.shape[0],\"and the number of columns is\",m.shape[1])\n"
   ]
  },
  {
   "cell_type": "code",
   "execution_count": 52,
   "metadata": {},
   "outputs": [
    {
     "name": "stdout",
     "output_type": "stream",
     "text": [
      "[[1. 1. 1. 1. 1. 1. 1. 1. 1. 1.]\n",
      " [1. 0. 0. 0. 0. 0. 0. 0. 0. 1.]\n",
      " [1. 0. 0. 0. 0. 0. 0. 0. 0. 1.]\n",
      " [1. 0. 0. 0. 0. 0. 0. 0. 0. 1.]\n",
      " [1. 0. 0. 0. 0. 0. 0. 0. 0. 1.]\n",
      " [1. 0. 0. 0. 0. 0. 0. 0. 0. 1.]\n",
      " [1. 0. 0. 0. 0. 0. 0. 0. 0. 1.]\n",
      " [1. 0. 0. 0. 0. 0. 0. 0. 0. 1.]\n",
      " [1. 0. 0. 0. 0. 0. 0. 0. 0. 1.]\n",
      " [1. 1. 1. 1. 1. 1. 1. 1. 1. 1.]]\n"
     ]
    }
   ],
   "source": [
    "# Write a NumPy program to create a 10x10 matrix, in which the elements on the borders will be equal to 1, and inside 0. (28)\n",
    "m=np.ones([10,10])\n",
    "m[1:-1,1:-1]=0\n",
    "print(m)"
   ]
  },
  {
   "cell_type": "code",
   "execution_count": 57,
   "metadata": {},
   "outputs": [
    {
     "name": "stdout",
     "output_type": "stream",
     "text": [
      "[[1. 0. 0. 0. 0.]\n",
      " [0. 2. 0. 0. 0.]\n",
      " [0. 0. 3. 0. 0.]\n",
      " [0. 0. 0. 4. 0.]\n",
      " [0. 0. 0. 0. 5.]]\n"
     ]
    }
   ],
   "source": [
    "# Write a NumPy program to create a 5x5 zero matrix with elements on the main diagonal equal to 1, 2, 3, 4, 5. (29)\n",
    "\n",
    "m=np.eye(5)\n",
    "v=np.arange(1,6)\n",
    "print(m*v)"
   ]
  },
  {
   "cell_type": "code",
   "execution_count": 71,
   "metadata": {},
   "outputs": [
    {
     "name": "stdout",
     "output_type": "stream",
     "text": [
      "[[0. 1. 0. 1.]\n",
      " [1. 0. 1. 0.]\n",
      " [0. 1. 0. 1.]\n",
      " [1. 0. 1. 0.]]\n"
     ]
    }
   ],
   "source": [
    "# Write a NumPy program to create a 4x4 matrix in which 0 and 1 are staggered, with zeros on the main diagonal (30)\n",
    "m=np.zeros((4,4))\n",
    "m[0::2,1::2]=1\n",
    "m[1::2,0::2]=1\n",
    "print(m)"
   ]
  },
  {
   "cell_type": "code",
   "execution_count": 72,
   "metadata": {},
   "outputs": [
    {
     "name": "stdout",
     "output_type": "stream",
     "text": [
      "78\n"
     ]
    }
   ],
   "source": [
    "# Write a NumPy program to compute the inner product of two given vectors. (33)\n",
    "x = np.array([4, 5])\n",
    "y = np.array([7, 10])\n",
    "print(np.dot(x,y))"
   ]
  },
  {
   "cell_type": "code",
   "execution_count": 74,
   "metadata": {},
   "outputs": [
    {
     "name": "stdout",
     "output_type": "stream",
     "text": [
      "[ 0.  0.  0.  0.  0. 11.  0.  0.  0.  0.]\n"
     ]
    }
   ],
   "source": [
    "# Write a NumPy program to create a null vector of size 10 and update the sixth value to 11.\n",
    "x=np.zeros(10)\n",
    "x[5]=11\n",
    "print(x)"
   ]
  },
  {
   "cell_type": "code",
   "execution_count": 75,
   "metadata": {},
   "outputs": [
    {
     "data": {
      "text/plain": [
       "array([37, 36, 35, 34, 33, 32, 31, 30, 29, 28, 27, 26, 25, 24, 23, 22, 21,\n",
       "       20, 19, 18, 17, 16, 15, 14, 13, 12])"
      ]
     },
     "execution_count": 75,
     "metadata": {},
     "output_type": "execute_result"
    }
   ],
   "source": [
    "# Write a NumPy program to reverse an array (the first element becomes the last).\n",
    "x = np.arange(12, 38)\n",
    "x[::-1]"
   ]
  },
  {
   "cell_type": "code",
   "execution_count": 78,
   "metadata": {},
   "outputs": [
    {
     "name": "stdout",
     "output_type": "stream",
     "text": [
      "[1. 2. 3. 4.]\n"
     ]
    }
   ],
   "source": [
    "# Write a NumPy program to convert an array to a floating type.\n",
    "x = np.arange(1,5)\n",
    "y=x.astype(dtype=\"float64\")\n",
    "print(y)\n"
   ]
  },
  {
   "cell_type": "code",
   "execution_count": 81,
   "metadata": {},
   "outputs": [
    {
     "name": "stdout",
     "output_type": "stream",
     "text": [
      "[[1. 0. 1. 0. 1. 0. 1. 0.]\n",
      " [0. 1. 0. 1. 0. 1. 0. 1.]\n",
      " [1. 0. 1. 0. 1. 0. 1. 0.]\n",
      " [0. 1. 0. 1. 0. 1. 0. 1.]\n",
      " [1. 0. 1. 0. 1. 0. 1. 0.]\n",
      " [0. 1. 0. 1. 0. 1. 0. 1.]\n",
      " [1. 0. 1. 0. 1. 0. 1. 0.]\n",
      " [0. 1. 0. 1. 0. 1. 0. 1.]]\n"
     ]
    }
   ],
   "source": [
    "# Write a NumPy program to create an 8x8 matrix and fill it with a checkerboard pattern.\n",
    "m=np.zeros((8,8))\n",
    "for i in range(0,8,2):\n",
    "    m[i,::2]=1\n",
    "    m[i+1,1::2]=1\n",
    "print(m)"
   ]
  },
  {
   "cell_type": "code",
   "execution_count": 89,
   "metadata": {},
   "outputs": [
    {
     "name": "stdout",
     "output_type": "stream",
     "text": [
      "[-4.0000e-03  1.2002e+01  4.5212e+01  3.3998e+01  9.9914e+01  3.2000e+01]\n"
     ]
    }
   ],
   "source": [
    "# Write a NumPy program to convert Centigrade degrees into Fahrenheit degrees. Centigrade values are stored in a NumPy array.\n",
    "c=np.array([-17.78, -11.11, 7.34, 1.11, 37.73, 0. ])\n",
    "f=c*(9/5)+32\n",
    "print(f)"
   ]
  },
  {
   "cell_type": "code",
   "execution_count": 5,
   "metadata": {},
   "outputs": [
    {
     "name": "stdout",
     "output_type": "stream",
     "text": [
      "[0, -1, -1, 1, 1, -1, -1, -1, 1, 1, 1, -1]\n",
      "-1\n"
     ]
    }
   ],
   "source": [
    "#Random walks without numpy\n",
    "\n",
    "import random\n",
    "\n",
    "values=[-1,1]\n",
    "steps=[0]+[random.choice(values) for i in range(0,11)]\n",
    "location=0\n",
    "for i in steps: location+=i\n",
    "\n",
    "print(steps)\n",
    "print(location)"
   ]
  },
  {
   "cell_type": "code",
   "execution_count": 62,
   "metadata": {},
   "outputs": [
    {
     "name": "stdout",
     "output_type": "stream",
     "text": [
      "[ True  True False ... False  True  True] \n",
      "\n",
      "\n",
      "[480 906 324 ... 460 266 528]\n",
      "508.38078396699086\n"
     ]
    }
   ],
   "source": [
    "# Random walks using numpy\n",
    "\n",
    "import numpy as np\n",
    "\n",
    "steps=np.random.choice(values,(5000,1001))\n",
    "steps[:,0]=0\n",
    "\n",
    "position=steps.sum(axis=1)\n",
    "walk=steps.cumsum(axis=1)\n",
    "\n",
    "hit30=(abs(walk)>=30).any(axis=1)\n",
    "\n",
    "# print(hit30.sum())\n",
    "print(hit30,\"\\n\"*2)\n",
    "\n",
    "crossing_positions=(abs(walk[hit30])>=30).argmax(axis=1)\n",
    "print(crossing_positions)\n",
    "print(crossing_positions.mean())\n",
    "\n",
    "# print(steps,\"\\n\"*2)\n",
    "# print(position,\"\\n\"*2)\n",
    "# print(walk)\n",
    "# print(walk)"
   ]
  },
  {
   "cell_type": "code",
   "execution_count": 38,
   "metadata": {},
   "outputs": [
    {
     "name": "stdout",
     "output_type": "stream",
     "text": [
      "4\n"
     ]
    }
   ],
   "source": [
    "for i,j in enumerate(walk):\n",
    "    if abs(j)>=2:\n",
    "        print(i)\n",
    "        break\n",
    "    "
   ]
  },
  {
   "cell_type": "code",
   "execution_count": 9,
   "metadata": {},
   "outputs": [
    {
     "name": "stdout",
     "output_type": "stream",
     "text": [
      "0.8261027499627654\n"
     ]
    }
   ],
   "source": [
    "#17 Write a NumPy program to generate a random number between 0 and 1.\n",
    "import numpy as np\n",
    "number=np.random.random()\n",
    "if 1-number<0.001:\n",
    "    number=1\n",
    "print(number)"
   ]
  },
  {
   "cell_type": "code",
   "execution_count": 10,
   "metadata": {},
   "outputs": [
    {
     "name": "stdout",
     "output_type": "stream",
     "text": [
      "[ 0.22290722  0.25015884  0.66730776  2.38610254 -0.45015898 -0.55753806\n",
      " -0.32235371 -1.25469407  1.69126855  0.0308669   0.49600717  0.28592178\n",
      " -0.32472373  0.95756672  0.14261709]\n"
     ]
    }
   ],
   "source": [
    "#18 Write a NumPy program to generate an array of 15 random numbers from a standard normal distribution.\n",
    "arr=np.random.standard_normal(15)\n",
    "print(arr)"
   ]
  },
  {
   "cell_type": "code",
   "execution_count": 14,
   "metadata": {},
   "outputs": [
    {
     "data": {
      "text/plain": [
       "array([16, 17, 18, 19, 20, 21, 22, 23, 24, 25, 26, 27, 28, 29, 30, 31, 32,\n",
       "       33, 34, 35, 36, 37, 38, 39, 40, 41, 42, 43, 44, 45, 46, 47, 48, 49,\n",
       "       50, 51, 52, 53, 54])"
      ]
     },
     "execution_count": 14,
     "metadata": {},
     "output_type": "execute_result"
    }
   ],
   "source": [
    "#19 Write a NumPy program to create a vector with values ranging from 15 to 55 and print all values except the first and last.\n",
    "\n",
    "v=np.arange(15,56)\n",
    "v[1:-1]"
   ]
  },
  {
   "cell_type": "code",
   "execution_count": 17,
   "metadata": {},
   "outputs": [
    {
     "name": "stdout",
     "output_type": "stream",
     "text": [
      "0.3030363206267691\n",
      "0.15467164580399284\n",
      "0.946297822545102\n",
      "0.10003677384153398\n",
      "0.7352800430102374\n",
      "0.050265848876077435\n",
      "0.8542873264301339\n",
      "0.07300765297912726\n",
      "0.02187930183467801\n",
      "0.801760328761841\n",
      "0.7374711958594639\n",
      "0.004924593899436114\n"
     ]
    }
   ],
   "source": [
    "#20 Write a NumPy program to create a 3X4 array and iterate over it.\n",
    "m=np.random.random((3,4))\n",
    "for i in m:\n",
    "    for j in i:\n",
    "        print(j)"
   ]
  },
  {
   "cell_type": "code",
   "execution_count": 20,
   "metadata": {},
   "outputs": [
    {
     "name": "stdout",
     "output_type": "stream",
     "text": [
      "[22 20 12 29 37  6 33 38 10 36]\n"
     ]
    }
   ],
   "source": [
    "#21. Write a NumPy program to create a vector of length 10 with values evenly distributed between 5 and 50.\n",
    "\n",
    "v=np.random.randint(5,51,10)\n",
    "print(v)"
   ]
  },
  {
   "cell_type": "code",
   "execution_count": 31,
   "metadata": {},
   "outputs": [
    {
     "name": "stdout",
     "output_type": "stream",
     "text": [
      "[  0   1   2   3   4   5   6   7   8  -9 -10 -11 -12 -13 -14 -15  16  17\n",
      "  18  19  20]\n"
     ]
    }
   ],
   "source": [
    "#22. Write a NumPy program to create a vector with values from 0 to 20 and change the sign of the numbers in the range from 9 to 15.\n",
    "v=np.arange(21)\n",
    "v2=np.where((v>=9)&(v<=15),-v,v)\n",
    "print(v2)\n"
   ]
  },
  {
   "cell_type": "code",
   "execution_count": 32,
   "metadata": {},
   "outputs": [
    {
     "name": "stdout",
     "output_type": "stream",
     "text": [
      "[ 5 10  6  4  8]\n"
     ]
    }
   ],
   "source": [
    "#23 Write a NumPy program to create a vector of length 5 filled with arbitrary integers from 0 to 10.\n",
    "v=np.random.randint(0,11,5)\n",
    "print(v)"
   ]
  },
  {
   "cell_type": "code",
   "execution_count": 33,
   "metadata": {},
   "outputs": [
    {
     "name": "stdout",
     "output_type": "stream",
     "text": [
      "[[20 15 12 20]\n",
      " [18 20 14 16]\n",
      " [12 19 14 15]]\n"
     ]
    }
   ],
   "source": [
    "# 25. Write a NumPy program to create a 3x4 matrix filled with values from 10 to 21.\n",
    "\n",
    "m=np.random.randint(10,22,(3,4))\n",
    "print(m)"
   ]
  },
  {
   "cell_type": "code",
   "execution_count": 34,
   "metadata": {},
   "outputs": [
    {
     "name": "stdout",
     "output_type": "stream",
     "text": [
      "[[[0.22931636 0.47679472 0.11305905]\n",
      "  [0.591906   0.88447938 0.71881941]\n",
      "  [0.87565446 0.93912849 0.17314054]]\n",
      "\n",
      " [[0.75802152 0.42232017 0.54769976]\n",
      "  [0.29990584 0.15008098 0.19200179]\n",
      "  [0.14173041 0.80707937 0.07299609]]\n",
      "\n",
      " [[0.44866439 0.69188291 0.26474041]\n",
      "  [0.71386085 0.06424272 0.74732638]\n",
      "  [0.53385534 0.08481337 0.21092122]]]\n"
     ]
    }
   ],
   "source": [
    "#31 Write a NumPy program to create a 3x3x3 array filled with arbitrary values.\n",
    "m=np.random.random((3,3,3))\n",
    "print(m)"
   ]
  },
  {
   "cell_type": "code",
   "execution_count": 35,
   "metadata": {},
   "outputs": [
    {
     "name": "stdout",
     "output_type": "stream",
     "text": [
      "6\n",
      "Suma por columna [2 4]\n",
      "Suma por fila [1 5]\n"
     ]
    }
   ],
   "source": [
    "#  Write a NumPy program to compute the sum of all elements, the sum of each column and the sum of each row in a given array.\n",
    "x = np.array([[0,1],[2,3]])\n",
    "print(x.sum())\n",
    "print(\"Suma por columna\",x.sum(axis=0))\n",
    "print(\"Suma por fila\",x.sum(axis=1))"
   ]
  },
  {
   "cell_type": "code",
   "execution_count": 36,
   "metadata": {},
   "outputs": [
    {
     "name": "stdout",
     "output_type": "stream",
     "text": [
      "[[ 2  3  3]\n",
      " [ 5  6  6]\n",
      " [ 8  9  9]\n",
      " [11 12 12]]\n"
     ]
    }
   ],
   "source": [
    "# 34. Write a NumPy program to add a vector to each row of a given matrix.\n",
    "\n",
    "m = np.array([[1,2,3], [4,5,6], [7,8,9], [10, 11, 12]])\n",
    "v = np.array([1, 1, 0])\n",
    "\n",
    "print(m+v)"
   ]
  },
  {
   "cell_type": "code",
   "execution_count": null,
   "metadata": {},
   "outputs": [],
   "source": [
    "# 37. Write a NumPy program to save a given array to a text file and load it.\n",
    "x = np.arange(12).reshape(4, 3)\n",
    "np.save(\"./ejercicio37.npy\",x)"
   ]
  },
  {
   "cell_type": "code",
   "execution_count": 40,
   "metadata": {},
   "outputs": [
    {
     "name": "stdout",
     "output_type": "stream",
     "text": [
      "[[ 0  1  2]\n",
      " [ 3  4  5]\n",
      " [ 6  7  8]\n",
      " [ 9 10 11]]\n"
     ]
    }
   ],
   "source": [
    "y=np.load(\"./ejercicio37.npy\")\n",
    "print(y)"
   ]
  },
  {
   "cell_type": "code",
   "execution_count": 47,
   "metadata": {},
   "outputs": [
    {
     "name": "stdout",
     "output_type": "stream",
     "text": [
      "[(-10.0, 0.5440211108893698), (-9.9, 0.45753589377532133), (-9.8, 0.3664791292519284), (-9.700000000000001, 0.2717606264109442), (-9.600000000000001, 0.1743267812229814), (-9.500000000000002, 0.07515112046181108), (-9.400000000000002, -0.02477542545335599), (-9.300000000000002, -0.12445442350705994), (-9.200000000000003, -0.2228899141002442), (-9.100000000000003, -0.31909836234934874), (-9.000000000000004, -0.4121184852417533), (-8.900000000000004, -0.5010208564578816), (-8.800000000000004, -0.5849171928917588), (-8.700000000000005, -0.6629692300821793), (-8.600000000000005, -0.7343970978741098), (-8.500000000000005, -0.798487112623487), (-8.400000000000006, -0.8545989080882778), (-8.300000000000006, -0.9021718337562911), (-8.200000000000006, -0.9407305566797707), (-8.100000000000007, -0.9698898108450846), (-8.000000000000007, -0.9893582466233808), (-7.9000000000000075, -0.9989413418397717), (-7.800000000000008, -0.9985433453746054), (-7.700000000000008, -0.9881682338770016), (-7.6000000000000085, -0.9679196720314885), (-7.500000000000009, -0.9379999767747419), (-7.400000000000009, -0.8987080958116308), (-7.30000000000001, -0.8504366206285696), (-7.20000000000001, -0.7936678638491591), (-7.10000000000001, -0.7289690401258831), (-7.000000000000011, -0.6569865987187972), (-6.900000000000011, -0.5784397643882089), (-6.800000000000011, -0.4941133511386182), (-6.700000000000012, -0.4048499206166089), (-6.600000000000012, -0.3115413635133897), (-6.500000000000012, -0.21511998808782767), (-6.400000000000013, -0.11654920485050599), (-6.300000000000013, -0.016813900484363032), (-6.2000000000000135, 0.08308940281748313), (-6.100000000000014, 0.18216250427208192), (-6.000000000000014, 0.2794154981989122), (-5.900000000000015, 0.37387666483022286), (-5.800000000000015, 0.464602179413744), (-5.700000000000015, 0.550685542597625), (-5.600000000000016, 0.6312666378723092), (-5.500000000000016, 0.7055403255703806), (-5.400000000000016, 0.772764487555977), (-5.300000000000017, 0.8322674422238919), (-5.200000000000017, 0.8834546557201453), (-5.100000000000017, 0.9258146823277257), (-5.000000000000018, 0.9589242746631335), (-4.900000000000018, 0.9824526126243291), (-4.8000000000000185, 0.996164608835839), (-4.700000000000019, 0.9999232575641012), (-4.600000000000019, 0.9936910036334666), (-4.5000000000000195, 0.9775301176651012), (-4.40000000000002, 0.9516020738895221), (-4.30000000000002, 0.9161659367494631), (-4.200000000000021, 0.8715757724135982), (-4.100000000000021, 0.8182771110644226), (-4.000000000000021, 0.7568024953079422), (-3.9000000000000217, 0.6877661591839895), (-3.800000000000022, 0.6118578909427365), (-3.7000000000000224, 0.5298361409085122), (-3.6000000000000227, 0.4425204432948728), (-3.500000000000023, 0.3507832276896415), (-3.4000000000000234, 0.255541102026854), (-3.300000000000024, 0.1577456941432719), (-3.200000000000024, 0.058374143427604025), (-3.1000000000000245, -0.04158066243326609), (-3.000000000000025, -0.1411200080598426), (-2.9000000000000252, -0.23924932921395783), (-2.8000000000000256, -0.3349881501558808), (-2.700000000000026, -0.42737988023380646), (-2.6000000000000263, -0.5155013718214417), (-2.5000000000000266, -0.5984721441039351), (-2.400000000000027, -0.675463180551131), (-2.3000000000000274, -0.7457052121767019), (-2.2000000000000277, -0.8084964038195739), (-2.100000000000028, -0.8632093666488596), (-2.0000000000000284, -0.9092974268256698), (-1.9000000000000288, -0.9463000876874051), (-1.8000000000000291, -0.9738476308781886), (-1.7000000000000295, -0.9916648104524648), (-1.6000000000000298, -0.9995736030415043), (-1.5000000000000302, -0.9974949866040566), (-1.4000000000000306, -0.9854497299884654), (-1.300000000000031, -0.9635581854172013), (-1.2000000000000313, -0.9320390859672377), (-1.1000000000000316, -0.8912073600614496), (-1.000000000000032, -0.8414709848079138), (-0.9000000000000323, -0.7833269096275035), (-0.8000000000000327, -0.7173560908995456), (-0.700000000000033, -0.6442176872377163), (-0.6000000000000334, -0.5646424733950629), (-0.5000000000000338, -0.4794255386042326), (-0.4000000000000341, -0.3894183423086819), (-0.30000000000003446, -0.2955202066613725), (-0.20000000000003482, -0.19866933079509533), (-0.10000000000003517, -0.09983341664686315), (-3.552713678800501e-14, -3.552713678800501e-14), (0.09999999999996412, 0.09983341664679245), (0.19999999999996376, 0.1986693307950257), (0.2999999999999634, 0.29552020666130463), (0.39999999999996305, 0.38941834230861644), (0.4999999999999627, 0.47942553860417025), (0.5999999999999623, 0.5646424733950043), (0.699999999999962, 0.6442176872376619), (0.7999999999999616, 0.717356090899496), (0.8999999999999613, 0.7833269096274593), (0.9999999999999609, 0.8414709848078754), (1.0999999999999606, 0.8912073600614174), (1.1999999999999602, 0.932039085967212), (1.2999999999999599, 0.9635581854171822), (1.3999999999999595, 0.9854497299884533), (1.4999999999999591, 0.9974949866040516), (1.5999999999999588, 0.9995736030415063), (1.6999999999999584, 0.991664810452474), (1.799999999999958, 0.9738476308782047), (1.8999999999999577, 0.9463000876874281), (1.9999999999999574, 0.9092974268256995), (2.099999999999957, 0.8632093666488955), (2.1999999999999567, 0.8084964038196157), (2.2999999999999563, 0.7457052121767493), (2.399999999999956, 0.6754631805511834), (2.4999999999999556, 0.5984721441039921), (2.5999999999999552, 0.5155013718215026), (2.699999999999955, 0.42737988023387075), (2.7999999999999545, 0.33498815015594774), (2.899999999999954, 0.23924932921402683), (2.999999999999954, 0.14112000805991295), (3.0999999999999535, 0.04158066243333708), (3.199999999999953, -0.058374143427533096), (3.2999999999999527, -0.15774569414320172), (3.3999999999999524, -0.2555411020267853), (3.499999999999952, -0.35078322768957493), (3.5999999999999517, -0.44252044329480905), (3.6999999999999513, -0.5298361409084519), (3.799999999999951, -0.6118578909426803), (3.8999999999999506, -0.687766159183938), (3.9999999999999503, -0.7568024953078958), (4.09999999999995, -0.8182771110643817), (4.1999999999999496, -0.8715757724135633), (4.299999999999949, -0.9161659367494346), (4.399999999999949, -0.9516020738895002), (4.4999999999999485, -0.9775301176650862), (4.599999999999948, -0.9936910036334586), (4.699999999999948, -0.9999232575641003), (4.799999999999947, -0.9961646088358452), (4.899999999999947, -0.9824526126243424), (4.999999999999947, -0.9589242746631536), (5.099999999999946, -0.9258146823277525), (5.199999999999946, -0.8834546557201786), (5.299999999999946, -0.8322674422239313), (5.399999999999945, -0.7727644875560221), (5.499999999999945, -0.7055403255704309), (5.599999999999945, -0.6312666378723643), (5.699999999999944, -0.5506855425976843), (5.799999999999944, -0.46460217941380694), (5.8999999999999435, -0.37387666483028875), (5.999999999999943, -0.2794154981989804), (6.099999999999945, -0.18216250427215003), (6.1999999999999424, -0.08308940281755393), (6.29999999999994, 0.016813900484290212), (6.399999999999942, 0.11654920485043542), (6.499999999999943, 0.21511998808776), (6.599999999999941, 0.3115413635133221), (6.699999999999939, 0.4048499206165423), (6.79999999999994, 0.4941133511385564), (6.899999999999942, 0.5784397643881524), (6.99999999999994, 0.6569865987187435), (7.0999999999999375, 0.7289690401258333), (7.199999999999939, 0.7936678638491159), (7.29999999999994, 0.8504366206285331), (7.399999999999938, 0.8987080958115996), (7.499999999999936, 0.9379999767747167), (7.5999999999999375, 0.9679196720314707), (7.699999999999939, 0.988168233876991), (7.799999999999937, 0.9985433453746015), (7.899999999999935, 0.998941341839775), (7.999999999999936, 0.9893582466233911), (8.099999999999937, 0.9698898108451015), (8.199999999999935, 0.9407305566797949), (8.299999999999933, 0.9021718337563225), (8.399999999999935, 0.8545989080883146), (8.499999999999936, 0.7984871126235288), (8.599999999999934, 0.734397097874158), (8.699999999999932, 0.6629692300822339), (8.799999999999933, 0.5849171928918164), (8.899999999999935, 0.5010208564579416), (8.999999999999932, 0.4121184852418181), (9.09999999999993, 0.31909836234941774), (9.199999999999932, 0.22288991410031345), (9.299999999999933, 0.12445442350712868), (9.399999999999931, 0.024775425453427022), (9.499999999999929, -0.07515112046173845), (9.59999999999993, -0.17432678122291143), (9.699999999999932, -0.2717606264108775), (9.79999999999993, -0.3664791292518623), (9.899999999999928, -0.4575358937752566), (9.999999999999929, -0.5440211108893102), (10.09999999999993, -0.625070648892828), (10.199999999999928, -0.6998746875934916), (10.299999999999926, -0.7676858097635346), (10.399999999999928, -0.8278264690856129), (10.499999999999929, -0.8796957599716363), (10.599999999999927, -0.9227754216127786), (10.699999999999925, -0.9566350162701661), (10.799999999999926, -0.980936230066477), (10.899999999999928, -0.9954362533063704)]\n"
     ]
    }
   ],
   "source": [
    "#40 Write a NumPy program to compute the x and y coordinates for points on a sine curve\n",
    "points=np.arange(-10,11,0.1)\n",
    "sin_points=np.sin(points)\n",
    "grid=list(zip(points,sin_points))\n",
    "print(grid)"
   ]
  },
  {
   "cell_type": "code",
   "execution_count": 49,
   "metadata": {},
   "outputs": [
    {
     "name": "stdout",
     "output_type": "stream",
     "text": [
      "[[11 11  0 12]\n",
      " [ 0 13  0 13]\n",
      " [11  0 14 14]]\n"
     ]
    }
   ],
   "source": [
    "#42.Write a NumPy program to add elements to a matrix. If an element in the matrix is 0, we will not add the element below this element.\n",
    "element=10\n",
    "m = [[1, 1, 0, 2],\n",
    "    [0, 3, 0, 3], \n",
    "    [1, 0, 4, 4]]\n",
    "m=np.array(m)\n",
    "m2=np.where(m==0,m,m+element)\n",
    "print(m2)"
   ]
  },
  {
   "cell_type": "code",
   "execution_count": 57,
   "metadata": {},
   "outputs": [
    {
     "data": {
      "text/plain": [
       "True"
      ]
     },
     "execution_count": 57,
     "metadata": {},
     "output_type": "execute_result"
    }
   ],
   "source": [
    "#44. Write a NumPy program to check whether two arrays are equal (element wise) or not.\n",
    "nums1 = np.array([0.5, 1.5, 0.2])\n",
    "nums2 = np.array([0.5, 1.500000000, 0.2])\n",
    "(nums1==nums2).all()\n"
   ]
  },
  {
   "cell_type": "code",
   "execution_count": 66,
   "metadata": {},
   "outputs": [
    {
     "name": "stdout",
     "output_type": "stream",
     "text": [
      "[[201.21308011 205.63570255 188.52220797 196.69468033 202.65125825]\n",
      " [193.62613554 189.535796   202.85051235 190.71499475 190.63377541]\n",
      " [209.04503659 194.80927827 190.50732697 209.9090704  197.50167601]\n",
      " [206.81007649 207.01612109 204.5555871  198.536125   202.84359909]\n",
      " [202.81252498 198.45207649 204.16647147 200.40191116 189.78132404]\n",
      " [199.98803351 193.56953619 199.29197425 202.08862209 190.77050277]\n",
      " [194.54275831 196.68157982 210.69886311 208.83656432 204.19093218]\n",
      " [205.08280528 202.91345165 204.72136499 197.18533477 203.41570065]]\n"
     ]
    }
   ],
   "source": [
    "# 48. Write a NumPy program to create a two-dimensional array with shape (8,5) of random numbers. Select random numbers from a normal distribution (200,7).\n",
    "arr=np.random.normal(200,7,(8,5))\n",
    "print(arr)"
   ]
  },
  {
   "cell_type": "code",
   "execution_count": 69,
   "metadata": {},
   "outputs": [
    {
     "name": "stdout",
     "output_type": "stream",
     "text": [
      "[[0.96432904 0.4936242  0.7310733  0.33358655]\n",
      " [0.98992377 0.32740207 0.231299   0.93973218]\n",
      " [0.89912022 0.76228989 0.86115068 0.41023588]\n",
      " [0.95114629 0.02836876 0.4012403  0.06504849]] \n",
      "\n",
      "\n",
      "[[0.95114629 0.02836876 0.4012403  0.06504849]\n",
      " [0.98992377 0.32740207 0.231299   0.93973218]\n",
      " [0.89912022 0.76228989 0.86115068 0.41023588]\n",
      " [0.96432904 0.4936242  0.7310733  0.33358655]]\n"
     ]
    }
   ],
   "source": [
    "# 50. Write a NumPy program to create a 4x4 array with random values. Create an array from the said array swapping first and last rows.\n",
    "\n",
    "arr=np.random.random((4,4))\n",
    "arr2=arr.copy()\n",
    "print(arr,\"\\n\"*2)\n",
    "arr2[0]=arr[-1]\n",
    "arr2[-1]=arr[0]\n",
    "print(arr2)"
   ]
  },
  {
   "cell_type": "code",
   "execution_count": 79,
   "metadata": {},
   "outputs": [
    {
     "name": "stdout",
     "output_type": "stream",
     "text": [
      "[[1.54 2.39 6.99]\n",
      " [3.54 3.38 7.99]\n",
      " [5.54 4.38 9.29]] \n",
      "\n",
      "\n",
      " [[3.38 5.54 7.99]\n",
      " [3.54 4.38 6.99]\n",
      " [1.54 2.39 9.29]]\n"
     ]
    }
   ],
   "source": [
    "# 52. Write a NumPy program to sort a given array by row and column in ascending order.\n",
    "nums = np.array([[5.54, 3.38, 7.99],\n",
    "              [3.54, 4.38, 6.99],\n",
    "              [1.54, 2.39, 9.29]])\n",
    "\n",
    "nums_columns=np.sort(nums,axis=0)\n",
    "nums_rows=np.sort(nums,axis=1)\n",
    "\n",
    "print(nums_columns,\"\\n\"*3,nums_rows)"
   ]
  },
  {
   "cell_type": "code",
   "execution_count": 80,
   "metadata": {},
   "outputs": [
    {
     "name": "stdout",
     "output_type": "stream",
     "text": [
      "numbers less than 5 are [3.38 3.54 4.38 1.54 2.39]\n",
      "numbers greater than 5 are [5.54 7.99 6.99 9.29]\n"
     ]
    }
   ],
   "source": [
    "#53. Write a NumPy program to extract all numbers from a given array less and greater than a specified number.\n",
    "\n",
    "nums = np.array([[5.54, 3.38, 7.99],\n",
    "              [3.54, 4.38, 6.99],\n",
    "              [1.54, 2.39, 9.29]])\n",
    "n=5\n",
    "\n",
    "print(\"numbers less than\",n,\"are\",nums[nums<5])\n",
    "print(\"numbers greater than\",n,\"are\",nums[nums>5])"
   ]
  },
  {
   "cell_type": "code",
   "execution_count": 84,
   "metadata": {},
   "outputs": [
    {
     "name": "stdout",
     "output_type": "stream",
     "text": [
      "[[ 5.54  3.38  7.99]\n",
      " [ 3.54 18.32  6.99]\n",
      " [ 1.54  2.39  9.29]]\n"
     ]
    }
   ],
   "source": [
    "# 54 Write a NumPy program to replace all numbers in a given array equal, less and greater than a given number.\n",
    "nums = np.array([[5.54, 3.38, 7.99],\n",
    "              [3.54, 8.32, 6.99],\n",
    "              [1.54, 2.39, 9.29]])\n",
    "n=8.32\n",
    "r=18.32\n",
    "nums2=np.where(nums==n,r,nums)\n",
    "print(nums2)"
   ]
  },
  {
   "cell_type": "code",
   "execution_count": 85,
   "metadata": {},
   "outputs": [
    {
     "name": "stdout",
     "output_type": "stream",
     "text": [
      "[[0.24101664 0.89294199 0.4388635 ]\n",
      " [0.65332425 0.55921072 0.87329824]\n",
      " [0.9699596  0.57949116 0.61212477]]\n"
     ]
    }
   ],
   "source": [
    "# 55. Write a NumPy program to create an array of equal shape and data type for a given array.\n",
    "nums = np.array([[5.54, 3.38, 7.99],\n",
    "              [3.54, 8.32, 6.99],\n",
    "              [1.54, 2.39, 9.29]])\n",
    "arr=np.random.random(nums.shape).astype(nums.dtype)\n",
    "print(arr)"
   ]
  },
  {
   "cell_type": "code",
   "execution_count": 88,
   "metadata": {},
   "outputs": [
    {
     "name": "stdout",
     "output_type": "stream",
     "text": [
      "(2, 2, 5)\n"
     ]
    }
   ],
   "source": [
    "arr=np.array([[[1,2,3,4,5],\n",
    "             [4,5,6,7,8]],\n",
    "             \n",
    "             [[4,6,7,8,9],\n",
    "              [7,8,9,1,4]]])\n",
    "print(arr.shape)"
   ]
  },
  {
   "cell_type": "code",
   "execution_count": 89,
   "metadata": {},
   "outputs": [
    {
     "name": "stdout",
     "output_type": "stream",
     "text": [
      "[[0.74514477 0.52285541 0.58691269 0.08217855]\n",
      " [0.23443969 0.64908957 0.55229613 0.62486087]\n",
      " [0.72777769 0.12227655 0.59432861 0.50620745]\n",
      " [0.61781617 0.45791668 0.95770383 0.60835176]] \n",
      "\n",
      "[[0.61781617 0.45791668 0.95770383 0.60835176]\n",
      " [0.72777769 0.12227655 0.59432861 0.50620745]\n",
      " [0.23443969 0.64908957 0.55229613 0.62486087]\n",
      " [0.74514477 0.52285541 0.58691269 0.08217855]]\n"
     ]
    }
   ],
   "source": [
    "# 57. Write a NumPy program to create a 4x4 array. Create an array from said array by swapping first and last, second and third columns.\n",
    "\n",
    "arr=np.random.random((4,4))\n",
    "print(arr,\"\\n\")\n",
    "\n",
    "arr2=arr.copy()\n",
    "arr2[0]=arr[-1]\n",
    "arr2[-1]=arr[0]\n",
    "arr2[1]=arr[2]\n",
    "arr2[2]=arr[1]\n",
    "\n",
    "print(arr2)\n"
   ]
  },
  {
   "cell_type": "code",
   "execution_count": 105,
   "metadata": {},
   "outputs": [
    {
     "data": {
      "text/plain": [
       "array([[[ 5,  0,  3,  2],\n",
       "        [90, 91, 93, 94],\n",
       "        [ 0,  1,  3,  4],\n",
       "        [ 1,  2,  3,  4]]])"
      ]
     },
     "execution_count": 105,
     "metadata": {},
     "output_type": "execute_result"
    }
   ],
   "source": [
    "# 58. Write a NumPy program to swap rows and columns of a given array in reverse order.\n",
    "\n",
    "nums = np.array([[[1, 2, 3, 4],\n",
    "               [0, 1, 3, 4],\n",
    "               [90, 91, 93, 94],\n",
    "               [5, 0, 3, 2]]])\n",
    "\n",
    "nums[::-1,::-1]"
   ]
  }
 ],
 "metadata": {
  "kernelspec": {
   "display_name": "pydata-book",
   "language": "python",
   "name": "python3"
  },
  "language_info": {
   "codemirror_mode": {
    "name": "ipython",
    "version": 3
   },
   "file_extension": ".py",
   "mimetype": "text/x-python",
   "name": "python",
   "nbconvert_exporter": "python",
   "pygments_lexer": "ipython3",
   "version": "3.10.12"
  },
  "orig_nbformat": 4
 },
 "nbformat": 4,
 "nbformat_minor": 2
}
