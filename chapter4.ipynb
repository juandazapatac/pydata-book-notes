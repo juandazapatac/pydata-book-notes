{
 "cells": [
  {
   "cell_type": "markdown",
   "metadata": {},
   "source": [
    "# Chapter 4 - Numpy Basics"
   ]
  },
  {
   "cell_type": "markdown",
   "metadata": {},
   "source": [
    "Numpy library stands for Numeric Python as it was especially built for working with numeric data. \n",
    "\n",
    "As many of its algorithms are C-based, many computations can be even 100 times faster using Numpy than using the classic built-in Python sequences.\n",
    "\n",
    "Numpy is highly used for data analysis, statistics, etc. However, more and more data scientists are choosing pandas as its main tool.\n",
    "\n",
    "One of its mayor advantages is its **n-dimensional array object** which can save you, for example, many for loops.\n",
    "\n",
    "**Percibo que la mayor ventaja de Numpy es el poder hacer operaciones numéricas entre grandes cantidades de datos de manera rápida y sencilla, evitando el uso de for loops**"
   ]
  },
  {
   "cell_type": "markdown",
   "metadata": {},
   "source": [
    "## The Numpy array object"
   ]
  },
  {
   "cell_type": "markdown",
   "metadata": {},
   "source": [
    "Can be seen as a linear algebra matrix. It is fast, flexible and mutable:"
   ]
  },
  {
   "cell_type": "code",
   "execution_count": 2,
   "metadata": {},
   "outputs": [],
   "source": [
    "import numpy as np \n",
    "data=np.array([[3,4,8,11],[4,5,6,1],[9,6,4,1]])"
   ]
  },
  {
   "cell_type": "markdown",
   "metadata": {},
   "source": [
    "All of its elements must be the same type.\n",
    "\n",
    "It's possible to sum them or to multiply them by a scalar as we do with matrix."
   ]
  },
  {
   "cell_type": "markdown",
   "metadata": {},
   "source": [
    "Some of its more important atributes are:"
   ]
  },
  {
   "cell_type": "code",
   "execution_count": 7,
   "metadata": {},
   "outputs": [
    {
     "data": {
      "text/plain": [
       "(3, 4)"
      ]
     },
     "execution_count": 7,
     "metadata": {},
     "output_type": "execute_result"
    }
   ],
   "source": [
    "data.shape "
   ]
  },
  {
   "cell_type": "code",
   "execution_count": 8,
   "metadata": {},
   "outputs": [
    {
     "data": {
      "text/plain": [
       "2"
      ]
     },
     "execution_count": 8,
     "metadata": {},
     "output_type": "execute_result"
    }
   ],
   "source": [
    "data.ndim"
   ]
  },
  {
   "cell_type": "code",
   "execution_count": 9,
   "metadata": {},
   "outputs": [
    {
     "data": {
      "text/plain": [
       "dtype('int64')"
      ]
     },
     "execution_count": 9,
     "metadata": {},
     "output_type": "execute_result"
    }
   ],
   "source": [
    "data.dtype"
   ]
  },
  {
   "cell_type": "markdown",
   "metadata": {},
   "source": [
    "**Creating ndarrays**"
   ]
  },
  {
   "cell_type": "markdown",
   "metadata": {},
   "source": [
    "You can use the next np functions to create arrays:\n",
    "\n",
    "*np.arange(), np.ones(), np.zeros(), np.empty(), np.eye()*"
   ]
  },
  {
   "cell_type": "markdown",
   "metadata": {},
   "source": [
    "**dtype**\n",
    "\n",
    "As said before, all of the elements of a Numpy array must be the same type. The array's type is saved as the attribute *dtype* and you can explicitly define it like this:"
   ]
  },
  {
   "cell_type": "code",
   "execution_count": 5,
   "metadata": {},
   "outputs": [
    {
     "name": "stdout",
     "output_type": "stream",
     "text": [
      "[45 68 98]\n"
     ]
    }
   ],
   "source": [
    "x=np.array([45,68,98],dtype=\"int64\")\n",
    "print(x)"
   ]
  },
  {
   "cell_type": "markdown",
   "metadata": {},
   "source": [
    "Arrays also have a method call *astype* which allows you to change its type:"
   ]
  },
  {
   "cell_type": "code",
   "execution_count": 6,
   "metadata": {},
   "outputs": [
    {
     "data": {
      "text/plain": [
       "array([45., 68., 98.])"
      ]
     },
     "execution_count": 6,
     "metadata": {},
     "output_type": "execute_result"
    }
   ],
   "source": [
    "x.astype(np.float64)"
   ]
  },
  {
   "cell_type": "markdown",
   "metadata": {},
   "source": [
    "**Array's arithmetics**\n",
    "\n",
    "The same used in linear algebra."
   ]
  },
  {
   "cell_type": "markdown",
   "metadata": {},
   "source": [
    "**Array's indexing and slicing**\n",
    "\n",
    "Pretty similar to the one used in lists and tuples. The main distinction is that data is not copied then all changes done using indexing will affect the original array:"
   ]
  },
  {
   "cell_type": "code",
   "execution_count": 7,
   "metadata": {},
   "outputs": [
    {
     "name": "stdout",
     "output_type": "stream",
     "text": [
      "[65  0 12  9]\n"
     ]
    }
   ],
   "source": [
    "arr=np.array([65,98,12,9])\n",
    "arr[1]=0\n",
    "print(arr)"
   ]
  },
  {
   "cell_type": "markdown",
   "metadata": {},
   "source": [
    "**Boolean indexing**\n",
    "\n",
    "This tool is kind of a query. The boolean array can be use as an index to look for values:"
   ]
  },
  {
   "cell_type": "code",
   "execution_count": 8,
   "metadata": {},
   "outputs": [
    {
     "name": "stdout",
     "output_type": "stream",
     "text": [
      "[43 67]\n"
     ]
    }
   ],
   "source": [
    "names=np.array([\"Carolina\",\"Samantha\",\"Catalina\",\"Clara\",\"Carolina\"])\n",
    "consumo=np.array([43,56,98,54,67])\n",
    "print(consumo[names==\"Carolina\"])"
   ]
  },
  {
   "cell_type": "markdown",
   "metadata": {},
   "source": [
    "**Fancy indexing**\n",
    "\n",
    "You index with a list of integers, this method gives you great precision.\n"
   ]
  },
  {
   "cell_type": "code",
   "execution_count": 11,
   "metadata": {},
   "outputs": [
    {
     "name": "stdout",
     "output_type": "stream",
     "text": [
      "[[ 34  76 903]\n",
      " [ 45  61  90]\n",
      " [ 28  41   9]]\n"
     ]
    }
   ],
   "source": [
    "m=np.array([[34,76,903],[45,61,90],[28,41,9]])\n",
    "print(m)"
   ]
  },
  {
   "cell_type": "code",
   "execution_count": 12,
   "metadata": {},
   "outputs": [
    {
     "data": {
      "text/plain": [
       "array([[ 34,  76, 903],\n",
       "       [ 28,  41,   9]])"
      ]
     },
     "execution_count": 12,
     "metadata": {},
     "output_type": "execute_result"
    }
   ],
   "source": [
    "m[[0,2]]"
   ]
  },
  {
   "cell_type": "code",
   "execution_count": 13,
   "metadata": {},
   "outputs": [
    {
     "data": {
      "text/plain": [
       "array([45, 61,  9])"
      ]
     },
     "execution_count": 13,
     "metadata": {},
     "output_type": "execute_result"
    }
   ],
   "source": [
    "m[[1,1,2],[0,1,2]]"
   ]
  },
  {
   "cell_type": "markdown",
   "metadata": {},
   "source": [
    "**Transposing**"
   ]
  },
  {
   "cell_type": "markdown",
   "metadata": {},
   "source": [
    "We use the attribute *T*"
   ]
  },
  {
   "cell_type": "code",
   "execution_count": 14,
   "metadata": {},
   "outputs": [
    {
     "data": {
      "text/plain": [
       "array([[ 34,  45,  28],\n",
       "       [ 76,  61,  41],\n",
       "       [903,  90,   9]])"
      ]
     },
     "execution_count": 14,
     "metadata": {},
     "output_type": "execute_result"
    }
   ],
   "source": [
    "m.T"
   ]
  },
  {
   "cell_type": "markdown",
   "metadata": {},
   "source": [
    "**Pseudorandom number generation with Numpy**\n",
    "\n",
    "The numpy.random module supplements the built-in Python random module. It's just much faster."
   ]
  },
  {
   "cell_type": "code",
   "execution_count": 2,
   "metadata": {},
   "outputs": [
    {
     "name": "stdout",
     "output_type": "stream",
     "text": [
      "[[ 0.57527852  0.40404982  1.92311247 -0.15691741]\n",
      " [-1.01561983 -0.02586233 -0.02514502 -0.97243448]\n",
      " [ 0.67225984  1.35728598  0.25697882 -1.28131362]\n",
      " [ 0.1250978   0.74039677 -0.94063157  0.20081559]]\n"
     ]
    }
   ],
   "source": [
    "import numpy as np\n",
    "arr=np.random.standard_normal((4,4))\n",
    "print(arr)"
   ]
  },
  {
   "cell_type": "markdown",
   "metadata": {},
   "source": [
    "**Universal Functions: Element-wise array functions**\n",
    "\n",
    "Help you avoiding lists and loops."
   ]
  },
  {
   "cell_type": "markdown",
   "metadata": {},
   "source": [
    "**Function where**\n",
    "\n",
    "Used to express easy and fast conditional logic:"
   ]
  },
  {
   "cell_type": "code",
   "execution_count": 6,
   "metadata": {},
   "outputs": [
    {
     "name": "stdout",
     "output_type": "stream",
     "text": [
      "[[ 1  1  1 -1]\n",
      " [-1 -1 -1  1]\n",
      " [ 1 -1 -1 -1]\n",
      " [-1 -1  1 -1]]\n"
     ]
    }
   ],
   "source": [
    "arr2=np.where(arr>=0,1,-1)\n",
    "print(arr2)"
   ]
  },
  {
   "cell_type": "markdown",
   "metadata": {},
   "source": [
    "**Math and statistical methods**"
   ]
  },
  {
   "cell_type": "markdown",
   "metadata": {},
   "source": [
    "Can be found as array's methods or as high-level Numpy functions."
   ]
  },
  {
   "cell_type": "code",
   "execution_count": 8,
   "metadata": {},
   "outputs": [
    {
     "name": "stdout",
     "output_type": "stream",
     "text": [
      "-3.685916831477228\n",
      "-3.685916831477228\n"
     ]
    }
   ],
   "source": [
    "print(arr.sum())\n",
    "print(np.sum(arr))"
   ]
  },
  {
   "cell_type": "markdown",
   "metadata": {},
   "source": [
    "You add the axis argument to apply them by row or by column. The result is a lower dimensional array."
   ]
  },
  {
   "cell_type": "code",
   "execution_count": 11,
   "metadata": {},
   "outputs": [
    {
     "data": {
      "text/plain": [
       "array([ 1.05604162, -2.34307127, -1.10960832, -1.28927886])"
      ]
     },
     "execution_count": 11,
     "metadata": {},
     "output_type": "execute_result"
    }
   ],
   "source": [
    "arr.sum(axis=0)"
   ]
  },
  {
   "cell_type": "markdown",
   "metadata": {},
   "source": [
    "Previous code means: compute sum accross the rows"
   ]
  },
  {
   "cell_type": "markdown",
   "metadata": {},
   "source": [
    "**Methods for Boolean Arrays**\n",
    "\n",
    "*.sum()* to calculate the number of True values.\n",
    "\n",
    "*.any()* to check if there is at least one True value.\n",
    "\n",
    "*.all()* to check if all are True values"
   ]
  },
  {
   "cell_type": "markdown",
   "metadata": {},
   "source": [
    "**Sorting arrays**\n",
    "\n",
    "The *.sort()* method can be used to sort in place. (Can be used by axis)\n",
    "The high-level Numpy function *numpy.sort()* creates a copy (As the Python built-in function *sorted()*)"
   ]
  },
  {
   "cell_type": "markdown",
   "metadata": {},
   "source": [
    "**Set logic for arrays**\n",
    "\n",
    "Just available for one-dimensional arrays.\n",
    "\n",
    "*.unique()* which deletes duplicates.\n",
    "\n",
    "*.in1d()* allows you to check if the elements of an array are in another array."
   ]
  },
  {
   "cell_type": "markdown",
   "metadata": {},
   "source": [
    "**Saving a loading arrays**\n",
    "\n",
    "Can be done with *save()* and *load()*"
   ]
  },
  {
   "cell_type": "markdown",
   "metadata": {},
   "source": [
    "**In this context, vectorized computation means to use arrays on the code and its calculations*"
   ]
  },
  {
   "cell_type": "markdown",
   "metadata": {},
   "source": [
    "**Distributions**\n",
    "\n",
    "Uniformly or evenly distribution.shape = square\n",
    "\n",
    "Normal distribution.shape = Gauss bell"
   ]
  }
 ],
 "metadata": {
  "kernelspec": {
   "display_name": "pydata-book",
   "language": "python",
   "name": "python3"
  },
  "language_info": {
   "codemirror_mode": {
    "name": "ipython",
    "version": 3
   },
   "file_extension": ".py",
   "mimetype": "text/x-python",
   "name": "python",
   "nbconvert_exporter": "python",
   "pygments_lexer": "ipython3",
   "version": "3.10.12"
  },
  "orig_nbformat": 4
 },
 "nbformat": 4,
 "nbformat_minor": 2
}
