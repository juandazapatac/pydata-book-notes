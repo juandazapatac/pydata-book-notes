{
 "cells": [
  {
   "cell_type": "markdown",
   "metadata": {},
   "source": [
    "# Chapter 1 - Preliminaries"
   ]
  },
  {
   "cell_type": "markdown",
   "metadata": {},
   "source": [
    "**About the book**\n",
    "\n",
    "This book is about Python and its capabilities for data analysis. It focuses on structured data but it's important to keep in mind that almost every piece of data can be transformed to structured data."
   ]
  },
  {
   "cell_type": "markdown",
   "metadata": {},
   "source": [
    "**Why Python?**\n",
    "\n",
    "One of the most used programming languages nowadays, famous because of its simplicity and versatility. It has a lot of libraries that just make everything easier. \n",
    "\n",
    "Python solves the \"two language problem\" that many organizations have between the language used by the research team and the software team. \n",
    "\n",
    "As a high-level language, Python is slower than other low-level languages, what makes it less suitable for applications where the CPU time is more valuable than the programmer time."
   ]
  },
  {
   "cell_type": "markdown",
   "metadata": {},
   "source": [
    "**Essential Python Libraries**\n",
    "\n",
    "1. numpy\n",
    "2. pandas\n",
    "3. matplotlib\n",
    "4. sciPy\n",
    "5. scikit-learn\n",
    "6. statsmodels"
   ]
  },
  {
   "cell_type": "markdown",
   "metadata": {},
   "source": [
    "**Setup**\n",
    "\n",
    "During this book we are going to use Miniconda (a smaller version of Conda) to setup different environments. \n",
    "\n",
    "Warning: Once you install a package with conda, it's better practice to update it also with conda and not with pip."
   ]
  },
  {
   "cell_type": "markdown",
   "metadata": {},
   "source": [
    "**Import conventions**\n",
    "\n",
    "import numpy as np\n",
    "\n",
    "import matplotlib.pyplot as plt\n",
    "\n",
    "import pandas as pd\n",
    "\n",
    "import seaborn as sns\n",
    "\n",
    "import statsmodels as sm\n",
    "\n",
    "\n",
    "Warning: It's considered bad practice in Python software development to import everything (from numpy import *) from a large package like NumPy."
   ]
  }
 ],
 "metadata": {
  "kernelspec": {
   "display_name": "Python 3",
   "language": "python",
   "name": "python3"
  },
  "language_info": {
   "name": "python",
   "version": "3.10.6"
  },
  "orig_nbformat": 4
 },
 "nbformat": 4,
 "nbformat_minor": 2
}
