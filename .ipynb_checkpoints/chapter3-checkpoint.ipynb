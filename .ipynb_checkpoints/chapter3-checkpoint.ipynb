{
 "cells": [
  {
   "cell_type": "markdown",
   "id": "b5dfb423-af89-4547-aac1-5ae185cfba06",
   "metadata": {},
   "source": [
    "# Chapter 3"
   ]
  },
  {
   "cell_type": "markdown",
   "id": "60487915-4437-476d-9692-0d2ae396c4e0",
   "metadata": {},
   "source": [
    "## Tuples\n",
    "\n",
    "Ordered, inmutable, allow duplicate values."
   ]
  },
  {
   "cell_type": "code",
   "execution_count": 24,
   "id": "27572098-2d8f-4f7a-98d3-bae03ddb32fd",
   "metadata": {},
   "outputs": [],
   "source": [
    "t1=tuple()\n",
    "t2=(1,2,'Holo',None)"
   ]
  },
  {
   "cell_type": "code",
   "execution_count": 27,
   "id": "dac8a39d-a59d-4577-a818-996b4fd024b9",
   "metadata": {},
   "outputs": [
    {
     "data": {
      "text/plain": [
       "(2, 'Holo')"
      ]
     },
     "execution_count": 27,
     "metadata": {},
     "output_type": "execute_result"
    }
   ],
   "source": [
    "t2[1:3] #Indexing and slicing are able"
   ]
  },
  {
   "cell_type": "code",
   "execution_count": 28,
   "id": "4a613fce-a4af-41ad-a3c0-82dd10084fb1",
   "metadata": {},
   "outputs": [
    {
     "ename": "TypeError",
     "evalue": "'tuple' object does not support item assignment",
     "output_type": "error",
     "traceback": [
      "\u001b[0;31m---------------------------------------------------------------------------\u001b[0m",
      "\u001b[0;31mTypeError\u001b[0m                                 Traceback (most recent call last)",
      "Cell \u001b[0;32mIn[28], line 1\u001b[0m\n\u001b[0;32m----> 1\u001b[0m \u001b[43mt2\u001b[49m\u001b[43m[\u001b[49m\u001b[38;5;241;43m3\u001b[39;49m\u001b[43m]\u001b[49m\u001b[38;5;241m=\u001b[39m\u001b[38;5;124m'\u001b[39m\u001b[38;5;124mHola\u001b[39m\u001b[38;5;124m'\u001b[39m\n",
      "\u001b[0;31mTypeError\u001b[0m: 'tuple' object does not support item assignment"
     ]
    }
   ],
   "source": [
    "t2[3]='Hola' # Re-asignment is not able"
   ]
  },
  {
   "cell_type": "markdown",
   "id": "6e92efed-0472-4e43-9fc4-7e815214a3a1",
   "metadata": {},
   "source": [
    "## Lists\n",
    "\n",
    "Ordered, mutable, allow duplicate values."
   ]
  },
  {
   "cell_type": "code",
   "execution_count": null,
   "id": "99d542b3-119b-47e2-8304-e7c3fb5c6c39",
   "metadata": {},
   "outputs": [],
   "source": [
    "l1=list()\n",
    "l2=[True,2.45,False,True]"
   ]
  },
  {
   "cell_type": "code",
   "execution_count": 33,
   "id": "4336c253-8373-41c5-999e-357d73c6c0e9",
   "metadata": {},
   "outputs": [
    {
     "data": {
      "text/plain": [
       "False"
      ]
     },
     "execution_count": 33,
     "metadata": {},
     "output_type": "execute_result"
    }
   ],
   "source": [
    "l2[-2] #Indexing and slicing available"
   ]
  },
  {
   "cell_type": "code",
   "execution_count": 35,
   "id": "73437766-ce31-42ef-86db-677794b53594",
   "metadata": {},
   "outputs": [],
   "source": [
    "l2[0]='Welcome' #Re-asignments too"
   ]
  },
  {
   "cell_type": "markdown",
   "id": "ec3ddc26-df81-4318-96d9-65bcbf69fa2e",
   "metadata": {},
   "source": [
    "## Dictionaries\n",
    "\n",
    "Pairs key-value.\n",
    "\n",
    "Ordered, mutable, doesn't allow duplicate keys."
   ]
  },
  {
   "cell_type": "code",
   "execution_count": 9,
   "id": "791f478b-3e6d-42d6-8e13-62da6c671992",
   "metadata": {},
   "outputs": [],
   "source": [
    "d1=dict()\n",
    "d2={'Colombia':'Latino','Marruecos':'Maghrébin'}"
   ]
  },
  {
   "cell_type": "code",
   "execution_count": 16,
   "id": "94dd2305-1758-47c8-84a9-5e17fe8c6a28",
   "metadata": {},
   "outputs": [
    {
     "data": {
      "text/plain": [
       "dict_keys(['Colombia', 'Marruecos'])"
      ]
     },
     "execution_count": 16,
     "metadata": {},
     "output_type": "execute_result"
    }
   ],
   "source": [
    "d2.keys() # list of dict keys"
   ]
  },
  {
   "cell_type": "code",
   "execution_count": 15,
   "id": "e3a05cbc-e29e-4916-958f-9548a7e9d716",
   "metadata": {},
   "outputs": [
    {
     "data": {
      "text/plain": [
       "dict_values(['Latino', 'Maghrébin'])"
      ]
     },
     "execution_count": 15,
     "metadata": {},
     "output_type": "execute_result"
    }
   ],
   "source": [
    "d2.values() # list of dict values"
   ]
  },
  {
   "cell_type": "code",
   "execution_count": null,
   "id": "1bcb7a38-34f4-4846-b6e6-f1ac6fbee91b",
   "metadata": {},
   "outputs": [],
   "source": [
    "d2.items() # List of tuples with each has a pairs key-value"
   ]
  },
  {
   "cell_type": "markdown",
   "id": "22304ef6-909f-4633-bb24-773ee3eb6119",
   "metadata": {},
   "source": [
    "To access its items:"
   ]
  },
  {
   "cell_type": "code",
   "execution_count": 38,
   "id": "f7e7038b-2b5a-4b70-845c-e7127afdb9b6",
   "metadata": {},
   "outputs": [
    {
     "data": {
      "text/plain": [
       "'Latino'"
      ]
     },
     "execution_count": 38,
     "metadata": {},
     "output_type": "execute_result"
    }
   ],
   "source": [
    "d2['Colombia'] # Kind of indexing but with keys"
   ]
  },
  {
   "cell_type": "markdown",
   "id": "1c6c1938-4b13-47fe-93fe-8595b7a7b161",
   "metadata": {},
   "source": [
    "To add an item:"
   ]
  },
  {
   "cell_type": "code",
   "execution_count": 40,
   "id": "2619724b-ad25-4bf6-87be-66bdc613963f",
   "metadata": {},
   "outputs": [],
   "source": [
    "d2['China']='Latino'"
   ]
  },
  {
   "cell_type": "markdown",
   "id": "8b2b1e88-ee28-42ee-972a-13949b5f5440",
   "metadata": {},
   "source": [
    "and to modify it:"
   ]
  },
  {
   "cell_type": "code",
   "execution_count": 43,
   "id": "3f8c20e4-b5ad-473b-978d-fd8a1139fa93",
   "metadata": {},
   "outputs": [],
   "source": [
    "d2['China']='Han'"
   ]
  },
  {
   "cell_type": "markdown",
   "id": "f0db88c7-a28a-49dc-8624-98c840de354f",
   "metadata": {},
   "source": [
    "## Sets\n",
    "\n",
    "Unordered, unchangeable*, don't allow duplicate values"
   ]
  },
  {
   "cell_type": "code",
   "execution_count": 17,
   "id": "0d560d7e-ebcd-4061-98d8-7e0e0163ffe2",
   "metadata": {},
   "outputs": [],
   "source": [
    "s1=set()\n",
    "s2={1,6.7,True}"
   ]
  }
 ],
 "metadata": {
  "kernelspec": {
   "display_name": "Python 3 (ipykernel)",
   "language": "python",
   "name": "python3"
  },
  "language_info": {
   "codemirror_mode": {
    "name": "ipython",
    "version": 3
   },
   "file_extension": ".py",
   "mimetype": "text/x-python",
   "name": "python",
   "nbconvert_exporter": "python",
   "pygments_lexer": "ipython3",
   "version": "3.10.12"
  }
 },
 "nbformat": 4,
 "nbformat_minor": 5
}
