{
 "cells": [
  {
   "cell_type": "markdown",
   "metadata": {},
   "source": [
    "# Chapter 2 - Python Language Basics, IPython, and Jupyter Notebooks"
   ]
  },
  {
   "cell_type": "markdown",
   "metadata": {},
   "source": [
    "**Interpreted vs Compiled**\n",
    "\n",
    "Python as Javascript are interpreted languages, it means the computer doesn't really directly understand what we are coding but it needs an *interpreter* to understand it. This process is slower and the code is readen line by line.\n",
    "\n",
    "On the other hand, compiled languages like C++ communicate directly with the computer making them faster and more versatile. If one line is changed the whole code needs to be compiled once again."
   ]
  },
  {
   "cell_type": "markdown",
   "metadata": {},
   "source": [
    "**The Python interpreter**\n",
    "\n",
    "The Python interpreter is like a friend that will help us translate our Python code to the machine. Open it just typping *python* or *python3* in your terminal.\n",
    "\n",
    "*python3 scriptname.py* runs the script"
   ]
  },
  {
   "cell_type": "markdown",
   "metadata": {},
   "source": [
    "**IPython**\n",
    "\n",
    "Represents an interactive Python shell (interpreter). It's the base of the Jupyter project and its notebooks.\n",
    "\n",
    "You can close both interpreters before mentioned with *ctrl+D* or *exit()*\n",
    "\n",
    "To run a script in IPython type *%run scriptname.py*"
   ]
  },
  {
   "cell_type": "markdown",
   "metadata": {},
   "source": [
    "**Jupyter Notebooks**\n",
    "\n",
    "These notebooks help you work with markdowns, code and charts, all together. Are mostly used for data science. \n",
    "\n",
    "The coding blocks are basically IPython blocks.\n",
    "\n",
    "You can open any folder in Jupyter just typing *jupyter notebook* in your terminal, this opens you a server.\n",
    "\n",
    "*Shift + enter* to run a block.\n",
    "\n",
    "When you want to close a notebook, make sure you do it properly, otherwise the python process associated with the notebook will keep running in the background.\n",
    "\n",
    "With Jupyter Notebooks it's really use to change your kernel, therefore your environment."
   ]
  },
  {
   "cell_type": "markdown",
   "metadata": {},
   "source": [
    "**Tab completion**\n",
    "\n",
    "This tool may help you discover methods and attributes from a specific data type. The same is true for modules."
   ]
  },
  {
   "cell_type": "markdown",
   "metadata": {},
   "source": [
    "**Introspection**\n",
    "\n",
    "This useful displays general information about an object:"
   ]
  },
  {
   "cell_type": "code",
   "execution_count": 5,
   "metadata": {},
   "outputs": [
    {
     "name": "stdout",
     "output_type": "stream",
     "text": [
      "\u001b[0;31mDocstring:\u001b[0m\n",
      "print(value, ..., sep=' ', end='\\n', file=sys.stdout, flush=False)\n",
      "\n",
      "Prints the values to a stream, or to sys.stdout by default.\n",
      "Optional keyword arguments:\n",
      "file:  a file-like object (stream); defaults to the current sys.stdout.\n",
      "sep:   string inserted between values, default a space.\n",
      "end:   string appended after the last value, default a newline.\n",
      "flush: whether to forcibly flush the stream.\n",
      "\u001b[0;31mType:\u001b[0m      builtin_function_or_method"
     ]
    }
   ],
   "source": [
    "print?"
   ]
  },
  {
   "cell_type": "code",
   "execution_count": 7,
   "metadata": {},
   "outputs": [
    {
     "name": "stdout",
     "output_type": "stream",
     "text": [
      "\u001b[0;31mInit signature:\u001b[0m \u001b[0mtuple\u001b[0m\u001b[0;34m(\u001b[0m\u001b[0miterable\u001b[0m\u001b[0;34m=\u001b[0m\u001b[0;34m(\u001b[0m\u001b[0;34m)\u001b[0m\u001b[0;34m,\u001b[0m \u001b[0;34m/\u001b[0m\u001b[0;34m)\u001b[0m\u001b[0;34m\u001b[0m\u001b[0;34m\u001b[0m\u001b[0m\n",
      "\u001b[0;31mDocstring:\u001b[0m     \n",
      "Built-in immutable sequence.\n",
      "\n",
      "If no argument is given, the constructor returns an empty tuple.\n",
      "If iterable is specified the tuple is initialized from iterable's items.\n",
      "\n",
      "If the argument is a tuple, the return value is the same object.\n",
      "\u001b[0;31mType:\u001b[0m           type\n",
      "\u001b[0;31mSubclasses:\u001b[0m     int_info, float_info, UnraisableHookArgs, hash_info, version_info, flags, thread_info, asyncgen_hooks, _ExceptHookArgs, waitid_result, ..."
     ]
    }
   ],
   "source": [
    "tuple?"
   ]
  },
  {
   "cell_type": "markdown",
   "metadata": {},
   "source": [
    "## Python Semantics\n",
    "\n"
   ]
  },
  {
   "cell_type": "markdown",
   "metadata": {},
   "source": [
    "**Indentation, not braces**\n",
    "\n",
    "Recommendantion: Use four spaces as your default indentation. Better convergence with \n",
    "\n",
    "It's a "
   ]
  },
  {
   "cell_type": "markdown",
   "metadata": {},
   "source": [
    "## Scalar Types"
   ]
  },
  {
   "cell_type": "markdown",
   "metadata": {},
   "source": [
    "**Modules vs Libraries**\n",
    "\n",
    "A module is a .py file which may have different functions and variables. A library is a collection of modules.\n",
    "\n",
    "For example: The datetime module is located in the standard library"
   ]
  }
 ],
 "metadata": {
  "kernelspec": {
   "display_name": "Python 3 (ipykernel)",
   "language": "python",
   "name": "python3"
  },
  "language_info": {
   "codemirror_mode": {
    "name": "ipython",
    "version": 3
   },
   "file_extension": ".py",
   "mimetype": "text/x-python",
   "name": "python",
   "nbconvert_exporter": "python",
   "pygments_lexer": "ipython3",
   "version": "3.10.12"
  }
 },
 "nbformat": 4,
 "nbformat_minor": 4
}
