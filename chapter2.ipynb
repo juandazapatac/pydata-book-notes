{
 "cells": [
  {
   "cell_type": "markdown",
   "metadata": {},
   "source": [
    "# Chapter 2 - Python Language Basics, IPython, and Jupyter Notebooks"
   ]
  },
  {
   "cell_type": "markdown",
   "metadata": {},
   "source": [
    "**Interpreted vs Compiled**\n",
    "\n",
    "Python as Javascript are interpreted languages, it means the computer doesn't really directly understand what we are coding but it needs an *interpreter* to understand it. This process is slower and the code is readen line by line.\n",
    "\n",
    "On the other hand, compiled languages like C++ communicate directly with the computer making them faster and more versatile. If one line is changed the whole code needs to be compiled once again."
   ]
  },
  {
   "cell_type": "markdown",
   "metadata": {},
   "source": [
    "**The Python interpreter**\n",
    "\n",
    "The Python interpreter is like a friend that will help us translate our Python code to the machine. Open it just typping *python* or *python3* in your terminal.\n",
    "\n",
    "*python3 scriptname.py* runs the script"
   ]
  },
  {
   "cell_type": "markdown",
   "metadata": {},
   "source": [
    "**IPython**\n",
    "\n",
    "Represents an interactive Python shell (interpreter). It's the base of the Jupyter project and its notebooks.\n",
    "\n",
    "You can close both interpreters before mentioned with *ctrl+D* or *exit()*\n",
    "\n",
    "To run a script in IPython type *%run scriptname.py*"
   ]
  },
  {
   "cell_type": "markdown",
   "metadata": {},
   "source": [
    "**Jupyter Notebooks**\n",
    "\n",
    "These notebooks help you work with markdowns, code and charts, all together. Are mostly used for data science. \n",
    "\n",
    "The coding blocks are basically IPython blocks.\n",
    "\n",
    "You can open any folder in Jupyter just typing *jupyter notebook* in your terminal, this opens you a server.\n",
    "\n",
    "*Shift + enter* to run a block.\n",
    "\n",
    "When you want to close a notebook, make sure you do it properly, otherwise the python process associated with the notebook will keep running in the background.\n",
    "\n",
    "With Jupyter Notebooks it's really useful to change your kernel."
   ]
  },
  {
   "cell_type": "markdown",
   "metadata": {},
   "source": [
    "**Tab completion**\n",
    "\n",
    "This tool may help you discover methods and attributes from a specific data type. The same is true for modules."
   ]
  },
  {
   "cell_type": "markdown",
   "metadata": {},
   "source": [
    "**Introspection**\n",
    "\n",
    "This useful displays general information about an object:"
   ]
  },
  {
   "cell_type": "code",
   "execution_count": 5,
   "metadata": {},
   "outputs": [
    {
     "name": "stdout",
     "output_type": "stream",
     "text": [
      "\u001b[0;31mDocstring:\u001b[0m\n",
      "print(value, ..., sep=' ', end='\\n', file=sys.stdout, flush=False)\n",
      "\n",
      "Prints the values to a stream, or to sys.stdout by default.\n",
      "Optional keyword arguments:\n",
      "file:  a file-like object (stream); defaults to the current sys.stdout.\n",
      "sep:   string inserted between values, default a space.\n",
      "end:   string appended after the last value, default a newline.\n",
      "flush: whether to forcibly flush the stream.\n",
      "\u001b[0;31mType:\u001b[0m      builtin_function_or_method"
     ]
    }
   ],
   "source": [
    "print?"
   ]
  },
  {
   "cell_type": "code",
   "execution_count": 7,
   "metadata": {},
   "outputs": [
    {
     "name": "stdout",
     "output_type": "stream",
     "text": [
      "\u001b[0;31mInit signature:\u001b[0m \u001b[0mtuple\u001b[0m\u001b[0;34m(\u001b[0m\u001b[0miterable\u001b[0m\u001b[0;34m=\u001b[0m\u001b[0;34m(\u001b[0m\u001b[0;34m)\u001b[0m\u001b[0;34m,\u001b[0m \u001b[0;34m/\u001b[0m\u001b[0;34m)\u001b[0m\u001b[0;34m\u001b[0m\u001b[0;34m\u001b[0m\u001b[0m\n",
      "\u001b[0;31mDocstring:\u001b[0m     \n",
      "Built-in immutable sequence.\n",
      "\n",
      "If no argument is given, the constructor returns an empty tuple.\n",
      "If iterable is specified the tuple is initialized from iterable's items.\n",
      "\n",
      "If the argument is a tuple, the return value is the same object.\n",
      "\u001b[0;31mType:\u001b[0m           type\n",
      "\u001b[0;31mSubclasses:\u001b[0m     int_info, float_info, UnraisableHookArgs, hash_info, version_info, flags, thread_info, asyncgen_hooks, _ExceptHookArgs, waitid_result, ..."
     ]
    }
   ],
   "source": [
    "tuple?"
   ]
  },
  {
   "cell_type": "markdown",
   "metadata": {},
   "source": [
    "## Python Semantics\n",
    "\n"
   ]
  },
  {
   "cell_type": "markdown",
   "metadata": {},
   "source": [
    "**Indentation, not braces**\n",
    "\n",
    "Recommendantion: Use four spaces as your default indentation. Better convergence with Jupyter Notebooks\n",
    "\n",
    "It's a better practice to use vertical statements, this makes more readable code. "
   ]
  },
  {
   "cell_type": "markdown",
   "metadata": {},
   "source": [
    "**Everything is an object**\n",
    "\n",
    "And each object has an associated Type. Variables are just object names, the type information is stored in the object itself."
   ]
  },
  {
   "cell_type": "code",
   "execution_count": 8,
   "metadata": {},
   "outputs": [
    {
     "data": {
      "text/plain": [
       "True"
      ]
     },
     "execution_count": 8,
     "metadata": {},
     "output_type": "execute_result"
    }
   ],
   "source": [
    "# To check an object type\n",
    "\n",
    "l=[3,6,7,'Holo',False]\n",
    "isinstance(l,list)"
   ]
  },
  {
   "cell_type": "markdown",
   "metadata": {},
   "source": [
    "Objects in Python have both attributes (Other Python objects stored inside the object) and methods (functions associated with the object)"
   ]
  },
  {
   "cell_type": "markdown",
   "metadata": {},
   "source": [
    "**Comments**\n",
    "\n",
    "Use **#** for one-line comment. Use triple \" or tiple ' for multi-line comments *(\" are a better practice)*"
   ]
  },
  {
   "cell_type": "markdown",
   "metadata": {},
   "source": [
    "**Assigning variables**\n",
    "\n",
    "When assignin a variable in Python, what you are actually doing is creating a *reference* to the object shown on the righthand side of the equals sign."
   ]
  },
  {
   "cell_type": "code",
   "execution_count": null,
   "metadata": {},
   "outputs": [],
   "source": [
    "a=5\n",
    "b=a"
   ]
  },
  {
   "cell_type": "markdown",
   "metadata": {},
   "source": [
    "There b wasn't copied, b is just creating a reference to the same object a does. There if we change the object through a, b will be also changed."
   ]
  },
  {
   "cell_type": "markdown",
   "metadata": {},
   "source": [
    "**Imports**\n",
    "\n",
    "Each import can go until the module:"
   ]
  },
  {
   "cell_type": "code",
   "execution_count": null,
   "metadata": {},
   "outputs": [],
   "source": [
    "import some_module \n",
    "# or to create a shortcut\n",
    "import some_module as sm"
   ]
  },
  {
   "cell_type": "markdown",
   "metadata": {},
   "source": [
    "Or until a module's function or variable:"
   ]
  },
  {
   "cell_type": "code",
   "execution_count": null,
   "metadata": {},
   "outputs": [],
   "source": [
    "from some_module import function1 # as f1"
   ]
  },
  {
   "cell_type": "markdown",
   "metadata": {},
   "source": [
    "**Mutability**\n",
    "\n",
    "Favor inmutability when possible"
   ]
  },
  {
   "cell_type": "markdown",
   "metadata": {},
   "source": [
    "## Scalar Types"
   ]
  },
  {
   "cell_type": "markdown",
   "metadata": {},
   "source": [
    "**Modules vs Libraries**\n",
    "\n",
    "A module is simply a file with .py extension which may have different functions and variables. A library is a collection of modules.\n",
    "\n",
    "For example: The datetime module is located in the standard library"
   ]
  },
  {
   "cell_type": "markdown",
   "metadata": {},
   "source": [
    "**Encoding protocols**\n",
    "\n",
    "We need a way to communicate our characters (a,b,ç,🚚) to our machine, in order to accomplish this we need to transform each character to a binary representation, but, How to do it? That's where enconding protocols are born.\n",
    "\n",
    "The simplest one, ASCII, is an encoding protocol for 128 western characters. Each character has an ASCII value and each of these is represented by 1 byte (8 bits).\n",
    "\n",
    "Due to ASCII limitations the Unicode standard was created, nowadays it supports more than 149k characters and the way it uses resources to store information is still western oriented. It has many formats (ways to encode) like UTF-8 or UTF-16. \n",
    "\n"
   ]
  },
  {
   "cell_type": "markdown",
   "metadata": {},
   "source": [
    "**Strings**\n",
    "\n",
    "Inmutables, replace method must be used. Thet use the UTF-8 enconding standard by default. \n",
    "\n",
    "You can write then using quotes or double quotes (Double quotes are generally favored).\n",
    "\n",
    "The backslash character is an escape character, meaning that it is used to specify special characters."
   ]
  },
  {
   "cell_type": "code",
   "execution_count": 7,
   "metadata": {},
   "outputs": [
    {
     "name": "stdout",
     "output_type": "stream",
     "text": [
      "N\n",
      "o\n"
     ]
    }
   ],
   "source": [
    "print(\"N\\no\")"
   ]
  },
  {
   "cell_type": "markdown",
   "metadata": {},
   "source": [
    "**Booleans**\n",
    "\n",
    "True and False become 1 and 0 when converted to numbers"
   ]
  },
  {
   "cell_type": "code",
   "execution_count": 8,
   "metadata": {},
   "outputs": [
    {
     "data": {
      "text/plain": [
       "1"
      ]
     },
     "execution_count": 8,
     "metadata": {},
     "output_type": "execute_result"
    }
   ],
   "source": [
    "int(True)"
   ]
  },
  {
   "cell_type": "markdown",
   "metadata": {},
   "source": [
    "**None**\n",
    "\n",
    "None is the null value in Python"
   ]
  },
  {
   "cell_type": "markdown",
   "metadata": {},
   "source": [
    "## Control Flow"
   ]
  },
  {
   "cell_type": "markdown",
   "metadata": {},
   "source": [
    "**if**\n",
    "if, elif, else\n",
    "\n",
    "**for**\n",
    "\n",
    "**while**\n",
    "\n",
    "**continue and break**\n",
    "*continue* jumps into the next loop iteration. *break* closes the loop.\n",
    "\n",
    "**pass**\n",
    "The \"no-op\" (or \"do nothing\") statement in Python.\n",
    "\n",
    "**range**\n",
    "Function whose generates a sequence of integers. "
   ]
  },
  {
   "cell_type": "code",
   "execution_count": 10,
   "metadata": {},
   "outputs": [
    {
     "name": "stdout",
     "output_type": "stream",
     "text": [
      "1\n",
      "2\n",
      "3\n",
      "4\n"
     ]
    }
   ],
   "source": [
    "for i in range(1,5):\n",
    "    print(i)"
   ]
  },
  {
   "cell_type": "markdown",
   "metadata": {},
   "source": [
    "A common use is iterating sequences by index:"
   ]
  },
  {
   "cell_type": "code",
   "execution_count": 11,
   "metadata": {},
   "outputs": [
    {
     "name": "stdout",
     "output_type": "stream",
     "text": [
      "0 : H\n",
      "1 : o\n",
      "2 : l\n",
      "3 : a\n"
     ]
    }
   ],
   "source": [
    "l=['H','o','l','a']\n",
    "for j in range(len(l)):\n",
    "    print(str(j),':',str(l[j]))"
   ]
  }
 ],
 "metadata": {
  "kernelspec": {
   "display_name": "Python 3 (ipykernel)",
   "language": "python",
   "name": "python3"
  },
  "language_info": {
   "codemirror_mode": {
    "name": "ipython",
    "version": 3
   },
   "file_extension": ".py",
   "mimetype": "text/x-python",
   "name": "python",
   "nbconvert_exporter": "python",
   "pygments_lexer": "ipython3",
   "version": "3.10.12"
  }
 },
 "nbformat": 4,
 "nbformat_minor": 4
}
